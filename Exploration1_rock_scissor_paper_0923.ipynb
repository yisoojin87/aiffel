{
 "cells": [
  {
   "cell_type": "code",
   "execution_count": 2,
   "id": "national-blend",
   "metadata": {},
   "outputs": [
    {
     "name": "stdout",
     "output_type": "stream",
     "text": [
      "PIL 라이브러리 import 완료!\n"
     ]
    }
   ],
   "source": [
    "from PIL import Image\n",
    "import os, glob\n",
    "\n",
    "print(\"PIL 라이브러리 import 완료!\")"
   ]
  },
  {
   "cell_type": "code",
   "execution_count": 3,
   "id": "tracked-breed",
   "metadata": {},
   "outputs": [
    {
     "name": "stdout",
     "output_type": "stream",
     "text": [
      "2320 images to be resized.\n",
      "2320 images reseized\n",
      "가위 이미지 resize 완료!\n"
     ]
    }
   ],
   "source": [
    "import os\n",
    "\n",
    "def resize_images(img_path):\n",
    "    images=glob.glob(img_path + \"/*.jpg\")\n",
    "    \n",
    "    print(len(images), \"images to be resized.\")\n",
    "    \n",
    "    # 파일마다 모두 28X28 사이즈로 바꾸어 저장합니다.\n",
    "    target_size = (28, 28)\n",
    "    for img in images:\n",
    "        old_img = Image.open(img)\n",
    "        new_img = old_img.resize(target_size, Image.ANTIALIAS)\n",
    "        new_img.save(img, \"JPEG\")\n",
    "        \n",
    "    print(len(images), \"images reseized\")\n",
    "        \n",
    "# 가위 이미지가 저장된 디렉토리 아래의 모든 jpg파일을 읽어들여서\n",
    "image_dir_path = os.getenv(\"HOME\") + \"/aiffel/rock_scissor_paper/scissor\"\n",
    "resize_images(image_dir_path)\n",
    "\n",
    "print(\"가위 이미지 resize 완료!\")"
   ]
  },
  {
   "cell_type": "code",
   "execution_count": 4,
   "id": "lasting-hudson",
   "metadata": {},
   "outputs": [
    {
     "name": "stdout",
     "output_type": "stream",
     "text": [
      "2202  images to be resized.\n",
      "2202  images resized.\n",
      "바위 이미지 resize 완료!\n"
     ]
    }
   ],
   "source": [
    "import os\n",
    "\n",
    "def resize_images(img_path):\n",
    "\timages=glob.glob(img_path + \"/*.jpg\")  \n",
    "    \n",
    "\tprint(len(images), \" images to be resized.\")\n",
    "\n",
    "    # 파일마다 모두 28x28 사이즈로 바꾸어 저장합니다.\n",
    "\ttarget_size=(28,28)\n",
    "\tfor img in images:\n",
    "\t\told_img=Image.open(img)\n",
    "\t\tnew_img=old_img.resize(target_size,Image.ANTIALIAS)\n",
    "\t\tnew_img.save(img, \"JPEG\")\n",
    "    \n",
    "\tprint(len(images), \" images resized.\")\n",
    "\t\n",
    "# 가위 이미지가 저장된 디렉토리 아래의 모든 jpg 파일을 읽어들여서\n",
    "image_dir_path = os.getenv(\"HOME\") + \"/aiffel/rock_scissor_paper/rock\"\n",
    "resize_images(image_dir_path)\n",
    "\n",
    "print(\"바위 이미지 resize 완료!\")"
   ]
  },
  {
   "cell_type": "code",
   "execution_count": 5,
   "id": "polar-alarm",
   "metadata": {},
   "outputs": [
    {
     "name": "stdout",
     "output_type": "stream",
     "text": [
      "2270  images to be resized.\n",
      "2270  images resized.\n",
      "보 이미지 resize 완료!\n"
     ]
    }
   ],
   "source": [
    "import os\n",
    "\n",
    "def resize_images(img_path):\n",
    "\timages=glob.glob(img_path + \"/*.jpg\")  \n",
    "    \n",
    "\tprint(len(images), \" images to be resized.\")\n",
    "\n",
    "    # 파일마다 모두 28x28 사이즈로 바꾸어 저장합니다.\n",
    "\ttarget_size=(28,28)\n",
    "\tfor img in images:\n",
    "\t\told_img=Image.open(img)\n",
    "\t\tnew_img=old_img.resize(target_size,Image.ANTIALIAS)\n",
    "\t\tnew_img.save(img, \"JPEG\")\n",
    "    \n",
    "\tprint(len(images), \" images resized.\")\n",
    "\t\n",
    "# 보 이미지가 저장된 디렉토리 아래의 모든 jpg 파일을 읽어들여서\n",
    "image_dir_path = os.getenv(\"HOME\") + \"/aiffel/rock_scissor_paper/paper\"\n",
    "resize_images(image_dir_path)\n",
    "\n",
    "print(\"보 이미지 resize 완료!\")"
   ]
  },
  {
   "cell_type": "code",
   "execution_count": 6,
   "id": "european-commons",
   "metadata": {},
   "outputs": [
    {
     "name": "stdout",
     "output_type": "stream",
     "text": [
      "학습데이터(x_train)의 이미지 개수는 6792 입니다.\n",
      "x_train shape: (6792, 28, 28, 3)\n",
      "y_train shape: (6792,)\n"
     ]
    }
   ],
   "source": [
    "# train 데이터\n",
    "import numpy as np\n",
    "def load_data(img_path, number_of_data=6792): # 가위바위보 이미지 개수 총합에 주의\n",
    "    # 가위:0, 바위:1, 보:2\n",
    "    img_size = 28\n",
    "    color = 3\n",
    "    # 이미지 데이터와 라벨(가위 : 0, 바위 :1, 보: 2)데이터를 담을 행렬(matrix)영역을 생성한다.\n",
    "    imgs = np.zeros(number_of_data*img_size*img_size*color, dtype = np.int32).reshape(number_of_data, img_size, img_size, color)\n",
    "    labels=np.zeros(number_of_data, dtype = np.int32)\n",
    "    \n",
    "    idx = 0\n",
    "    for file in glob.iglob(img_path + '/scissor/*.jpg'):\n",
    "        img = np.array(Image.open(file), dtype=np.int32)\n",
    "        imgs[idx,:,:,:]=img    # 데이터 영역에 이미지 행렬을 복사\n",
    "        labels[idx]=0   # 가위 :0\n",
    "        idx = idx+1\n",
    "        \n",
    "    for file in glob.iglob(img_path+'/rock/*.jpg'):\n",
    "        img = np.array(Image.open(file), dtype = np.int32)\n",
    "        imgs[idx,:,:,:]=img  # 데이터 영역에 이미지 행렬을 복사\n",
    "        labels[idx] = 1   # 바위 : 1\n",
    "        idx=idx+1\n",
    "        \n",
    "    for file in glob.iglob(img_path+'/paper/*.jpg'):\n",
    "        img = np.array(Image.open(file), dtype=np.int32)\n",
    "        imgs[idx,:,:,:]=img  # 데이터 영역에 이미지 행렬을 복사\n",
    "        labels[idx]=2  # 보 :2\n",
    "        idx = idx+1\n",
    "        \n",
    "    print(\"학습데이터(x_train)의 이미지 개수는\", idx, \"입니다.\")\n",
    "    return imgs, labels\n",
    "\n",
    "image_dir_path = os.getenv(\"HOME\")+ \"/aiffel/rock_scissor_paper\"\n",
    "(x_train, y_train)=load_data(image_dir_path, 6792)\n",
    "x_train_norm = x_train/255.0  # 입력은 0~1 사이의 값으로 정규화\n",
    "\n",
    "print(\"x_train shape: {}\".format(x_train.shape))\n",
    "print(\"y_train shape: {}\".format(y_train.shape))"
   ]
  },
  {
   "cell_type": "code",
   "execution_count": 7,
   "id": "integrated-antibody",
   "metadata": {},
   "outputs": [
    {
     "name": "stdout",
     "output_type": "stream",
     "text": [
      "라벨: 0\n"
     ]
    },
    {
     "data": {
      "image/png": "[encoded data removed]",
      "text/plain": [
       "<Figure size 432x288 with 1 Axes>"
      ]
     },
     "metadata": {
      "needs_background": "light"
     },
     "output_type": "display_data"
    }
   ],
   "source": [
    "import matplotlib.pyplot as plt\n",
    "plt.imshow(x_train[0])\n",
    "print('라벨:', y_train[0])"
   ]
  },
  {
   "cell_type": "code",
   "execution_count": 18,
   "id": "polyphonic-ancient",
   "metadata": {},
   "outputs": [
    {
     "name": "stdout",
     "output_type": "stream",
     "text": [
      "Model: \"sequential_1\"\n",
      "_________________________________________________________________\n",
      "Layer (type)                 Output Shape              Param #   \n",
      "=================================================================\n",
      "conv2d_2 (Conv2D)            (None, 26, 26, 64)        1792      \n",
      "_________________________________________________________________\n",
      "max_pooling2d_2 (MaxPooling2 (None, 13, 13, 64)        0         \n",
      "_________________________________________________________________\n",
      "conv2d_3 (Conv2D)            (None, 11, 11, 128)       73856     \n",
      "_________________________________________________________________\n",
      "max_pooling2d_3 (MaxPooling2 (None, 5, 5, 128)         0         \n",
      "_________________________________________________________________\n",
      "flatten_1 (Flatten)          (None, 3200)              0         \n",
      "_________________________________________________________________\n",
      "dense_2 (Dense)              (None, 128)               409728    \n",
      "_________________________________________________________________\n",
      "dense_3 (Dense)              (None, 3)                 387       \n",
      "=================================================================\n",
      "Total params: 485,763\n",
      "Trainable params: 485,763\n",
      "Non-trainable params: 0\n",
      "_________________________________________________________________\n"
     ]
    }
   ],
   "source": [
    "import tensorflow as tf\n",
    "from tensorflow import keras\n",
    "import numpy as np\n",
    "\n",
    "# model을 직접 만들어 보기 (하이퍼 파라미터 값 변경)\n",
    "n_channel_1 = 64\n",
    "n_channel_2 = 128\n",
    "n_dense = 128\n",
    "n_train_epoch=10\n",
    "\n",
    "model=keras.models.Sequential()\n",
    "model.add(keras.layers.Conv2D(n_channel_1, (3,3), activation='relu', input_shape=(28,28,3)))\n",
    "model.add(keras.layers.MaxPool2D(2,2))\n",
    "model.add(keras.layers.Conv2D(n_channel_2, (3,3), activation='relu'))\n",
    "model.add(keras.layers.MaxPool2D((2,2)))\n",
    "model.add(keras.layers.Flatten())\n",
    "model.add(keras.layers.Dense(n_dense, activation='relu'))\n",
    "model.add(keras.layers.Dense(3, activation='softmax'))\n",
    "\n",
    "\n",
    "\n",
    "model.summary()"
   ]
  },
  {
   "cell_type": "code",
   "execution_count": 19,
   "id": "becoming-summit",
   "metadata": {},
   "outputs": [
    {
     "name": "stdout",
     "output_type": "stream",
     "text": [
      "Epoch 1/10\n",
      "213/213 [==============================] - 6s 15ms/step - loss: 1.0462 - accuracy: 0.4169\n",
      "Epoch 2/10\n",
      "213/213 [==============================] - 1s 5ms/step - loss: 0.4506 - accuracy: 0.8265\n",
      "Epoch 3/10\n",
      "213/213 [==============================] - 1s 5ms/step - loss: 0.2140 - accuracy: 0.9227\n",
      "Epoch 4/10\n",
      "213/213 [==============================] - 1s 5ms/step - loss: 0.0841 - accuracy: 0.9801\n",
      "Epoch 5/10\n",
      "213/213 [==============================] - 1s 5ms/step - loss: 0.0672 - accuracy: 0.9811\n",
      "Epoch 6/10\n",
      "213/213 [==============================] - 1s 5ms/step - loss: 0.0326 - accuracy: 0.9911\n",
      "Epoch 7/10\n",
      "213/213 [==============================] - 1s 5ms/step - loss: 0.0509 - accuracy: 0.9844\n",
      "Epoch 8/10\n",
      "213/213 [==============================] - 1s 5ms/step - loss: 0.0286 - accuracy: 0.9925\n",
      "Epoch 9/10\n",
      "213/213 [==============================] - 1s 5ms/step - loss: 0.0117 - accuracy: 0.9973\n",
      "Epoch 10/10\n",
      "213/213 [==============================] - 1s 5ms/step - loss: 0.0060 - accuracy: 0.9985\n"
     ]
    },
    {
     "data": {
      "text/plain": [
       "<tensorflow.python.keras.callbacks.History at 0x7f5e391ac3d0>"
      ]
     },
     "execution_count": 19,
     "metadata": {},
     "output_type": "execute_result"
    }
   ],
   "source": [
    "# 모델 학습\n",
    "model.compile(optimizer='adam',\n",
    "             loss='sparse_categorical_crossentropy',\n",
    "             metrics=['accuracy'])\n",
    "\n",
    "model.fit(x_train_norm, y_train, epochs=n_train_epoch)"
   ]
  },
  {
   "cell_type": "code",
   "execution_count": 20,
   "id": "wireless-messenger",
   "metadata": {},
   "outputs": [
    {
     "name": "stdout",
     "output_type": "stream",
     "text": [
      "213/213 - 1s - loss: 0.0070 - accuracy: 0.9990\n",
      "train_loss: 0.00698980875313282 \n",
      "train_accuracy: 0.9989693760871887\n"
     ]
    }
   ],
   "source": [
    "# 모델 테스트\n",
    "train_loss, train_accuracy = model.evaluate(x_train_norm, y_train, verbose=2)\n",
    "print(\"train_loss: {} \".format(train_loss))\n",
    "print(\"train_accuracy: {}\".format(train_accuracy))"
   ]
  },
  {
   "cell_type": "code",
   "execution_count": 21,
   "id": "protective-parallel",
   "metadata": {},
   "outputs": [
    {
     "name": "stdout",
     "output_type": "stream",
     "text": [
      "100 images to be resized.\n",
      "100 images reseized\n",
      "가위 테스트 이미지 resize 완료!\n"
     ]
    }
   ],
   "source": [
    "# test 이미지 resize\n",
    "import os\n",
    "\n",
    "def resize_images(img_path):\n",
    "    images=glob.glob(img_path + \"/*.jpg\")\n",
    "    \n",
    "    print(len(images), \"images to be resized.\")\n",
    "    \n",
    "    # 파일마다 모두 28X28 사이즈로 바꾸어 저장합니다.\n",
    "    target_size = (28, 28)\n",
    "    for img in images:\n",
    "        old_img = Image.open(img)\n",
    "        new_img = old_img.resize(target_size, Image.ANTIALIAS)\n",
    "        new_img.save(img, \"JPEG\")\n",
    "        \n",
    "    print(len(images), \"images reseized\")\n",
    "        \n",
    "# 가위 이미지가 저장된 디렉토리 아래의 모든 jpg파일을 읽어들여서\n",
    "image_dir_path = os.getenv(\"HOME\") + \"/aiffel/rock_scissor_paper/test/scissor\"\n",
    "resize_images(image_dir_path)\n",
    "\n",
    "print(\"가위 테스트 이미지 resize 완료!\")"
   ]
  },
  {
   "cell_type": "code",
   "execution_count": 22,
   "id": "central-evening",
   "metadata": {},
   "outputs": [
    {
     "name": "stdout",
     "output_type": "stream",
     "text": [
      "101  images to be resized.\n",
      "101  images resized.\n",
      "바위 테스트 이미지 resize 완료!\n"
     ]
    }
   ],
   "source": [
    "import os\n",
    "\n",
    "def resize_images(img_path):\n",
    "\timages=glob.glob(img_path + \"/*.jpg\")  \n",
    "    \n",
    "\tprint(len(images), \" images to be resized.\")\n",
    "\n",
    "    # 파일마다 모두 28x28 사이즈로 바꾸어 저장합니다.\n",
    "\ttarget_size=(28,28)\n",
    "\tfor img in images:\n",
    "\t\told_img=Image.open(img)\n",
    "\t\tnew_img=old_img.resize(target_size,Image.ANTIALIAS)\n",
    "\t\tnew_img.save(img, \"JPEG\")\n",
    "    \n",
    "\tprint(len(images), \" images resized.\")\n",
    "\t\n",
    "# 가위 이미지가 저장된 디렉토리 아래의 모든 jpg 파일을 읽어들여서\n",
    "image_dir_path = os.getenv(\"HOME\") + \"/aiffel/rock_scissor_paper/test/rock\"\n",
    "resize_images(image_dir_path)\n",
    "\n",
    "print(\"바위 테스트 이미지 resize 완료!\")"
   ]
  },
  {
   "cell_type": "code",
   "execution_count": 23,
   "id": "stunning-helen",
   "metadata": {},
   "outputs": [
    {
     "name": "stdout",
     "output_type": "stream",
     "text": [
      "100  images to be resized.\n",
      "100  images resized.\n",
      "보 테스트 이미지 resize 완료!\n"
     ]
    }
   ],
   "source": [
    "import os\n",
    "\n",
    "def resize_images(img_path):\n",
    "\timages=glob.glob(img_path + \"/*.jpg\")  \n",
    "    \n",
    "\tprint(len(images), \" images to be resized.\")\n",
    "\n",
    "    # 파일마다 모두 28x28 사이즈로 바꾸어 저장합니다.\n",
    "\ttarget_size=(28,28)\n",
    "\tfor img in images:\n",
    "\t\told_img=Image.open(img)\n",
    "\t\tnew_img=old_img.resize(target_size,Image.ANTIALIAS)\n",
    "\t\tnew_img.save(img, \"JPEG\")\n",
    "    \n",
    "\tprint(len(images), \" images resized.\")\n",
    "\t\n",
    "# 보 이미지가 저장된 디렉토리 아래의 모든 jpg 파일을 읽어들여서\n",
    "image_dir_path = os.getenv(\"HOME\") + \"/aiffel/rock_scissor_paper/test/paper\"\n",
    "resize_images(image_dir_path)\n",
    "\n",
    "print(\"보 테스트 이미지 resize 완료!\")"
   ]
  },
  {
   "cell_type": "code",
   "execution_count": 24,
   "id": "billion-central",
   "metadata": {},
   "outputs": [
    {
     "name": "stdout",
     "output_type": "stream",
     "text": [
      "학습데이터(x_test)의 이미지 개수는 301 입니다.\n",
      "x_test shape: (301, 28, 28, 3)\n",
      "y_test shape: (301,)\n"
     ]
    }
   ],
   "source": [
    "# test 데이터 \n",
    "import numpy as np\n",
    "def load_data(img_path, number_of_data=301): # 가위바위보 이미지 개수 총합에 주의\n",
    "    # 가위:0, 바위:1, 보:2\n",
    "    img_size = 28\n",
    "    color = 3\n",
    "    # 이미지 데이터와 라벨(가위 : 0, 바위 :1, 보: 2)데이터를 담을 행렬(matrix)영역을 생성한다.\n",
    "    imgs = np.zeros(number_of_data*img_size*img_size*color, dtype = np.int32).reshape(number_of_data, img_size, img_size, color)\n",
    "    labels=np.zeros(number_of_data, dtype = np.int32)\n",
    "    \n",
    "    idx = 0\n",
    "    for file in glob.iglob(img_path + '/scissor/*.jpg'):\n",
    "        img = np.array(Image.open(file), dtype=np.int32)\n",
    "        imgs[idx,:,:,:]=img    # 데이터 영역에 이미지 행렬을 복사\n",
    "        labels[idx]=0   # 가위 :0\n",
    "        idx = idx+1\n",
    "        \n",
    "    for file in glob.iglob(img_path+'/rock/*.jpg'):\n",
    "        img = np.array(Image.open(file), dtype = np.int32)\n",
    "        imgs[idx,:,:,:]=img  # 데이터 영역에 이미지 행렬을 복사\n",
    "        labels[idx] = 1   # 바위 : 1\n",
    "        idx=idx+1\n",
    "        \n",
    "    for file in glob.iglob(img_path+'/paper/*.jpg'):\n",
    "        img = np.array(Image.open(file), dtype=np.int32)\n",
    "        imgs[idx,:,:,:]=img  # 데이터 영역에 이미지 행렬을 복사\n",
    "        labels[idx]=2  # 보 :2\n",
    "        idx = idx+1\n",
    "        \n",
    "    print(\"학습데이터(x_test)의 이미지 개수는\", idx, \"입니다.\")\n",
    "    return imgs, labels\n",
    "\n",
    "image_dir_path = os.getenv(\"HOME\")+ \"/aiffel/rock_scissor_paper/test\"\n",
    "(x_test, y_test)=load_data(image_dir_path, 301)   #  test 파일에 있는 사진 개수와 변수 할당은 x_test, y_test로 바꿔줘야 함.\n",
    "x_test_norm = x_test/255.0  # 입력은 0~1 사이의 값으로 정규화\n",
    "\n",
    "print(\"x_test shape: {}\".format(x_test.shape))\n",
    "print(\"y_test shape: {}\".format(y_test.shape))"
   ]
  },
  {
   "cell_type": "code",
   "execution_count": 25,
   "id": "practical-advocacy",
   "metadata": {},
   "outputs": [
    {
     "name": "stdout",
     "output_type": "stream",
     "text": [
      "라벨: 0\n"
     ]
    },
    {
     "data": {
      "image/png": "[encoded data removed]",
      "text/plain": [
       "<Figure size 432x288 with 1 Axes>"
      ]
     },
     "metadata": {
      "needs_background": "light"
     },
     "output_type": "display_data"
    }
   ],
   "source": [
    "import matplotlib.pyplot as plt\n",
    "plt.imshow(x_test[0])\n",
    "print('라벨:', y_test[0])"
   ]
  },
  {
   "cell_type": "code",
   "execution_count": 26,
   "id": "institutional-upset",
   "metadata": {},
   "outputs": [
    {
     "name": "stdout",
     "output_type": "stream",
     "text": [
      "10/10 - 1s - loss: 3.0319 - accuracy: 0.5216\n",
      "test_loss: 3.031938314437866 \n",
      "test_accuracy: 0.5215947031974792\n"
     ]
    }
   ],
   "source": [
    "# 모델 테스트\n",
    "test_loss, test_accuracy = model.evaluate(x_test_norm, y_test, verbose=2)\n",
    "print(\"test_loss: {} \".format(test_loss))\n",
    "print(\"test_accuracy: {}\".format(test_accuracy))"
   ]
  },
  {
   "cell_type": "markdown",
   "id": "according-dryer",
   "metadata": {},
   "source": [
    "# 회고  \n",
    "## 느낀점\n",
    "\n",
    " 1. 처음에는 노드에 나온 코드를 순서대로 무작정 따라 치기만 하고 결과를 도출해 보았다. \n",
    "  + 다른 팀원들은 accuracy가 60% 미만으로 낮게 나온다며 만족해 하지 않았는데 나는 train/test data 둘 다 accuracy가 90% 이상이 나와 만족하며 그냥 제출하려고 했다.(여기서부터 뭔가 잘못되었다는 걸 전혀 감지하지 못했다.)  \n",
    "    \n",
    "    \n",
    " 2. 팀원의 도움으로 내가 작성했던 코드가 잘못되었다는 걸 알게되었다.\n",
    "  + train 데이터만 모델학습을 시켜야 하는데 test 데이터까지 모델학습을 시킨 걸 알게 되었다. (test 데이터까지 학습시키니깐 accuracy가 높게 나오는 걸 이 때 깨달았다.)  \n",
    "    \n",
    "  \n",
    " 3. 하이퍼 파라미터를 다양하게 입력해서 돌려보아도 test 데이터의 accuracy는 60% 이상으로 올라오지 않았다.\n",
    "  + 하이퍼 파라미터를 줄 때 2의 거듭제곱으로 주면 좋다고 해서 경우의 수로 다양하게 돌려보았지만 어림없었다.  \n",
    "    \n",
    "  \n",
    " 4. 데이터의 양과 질도 중요하다고 하여 처음에 업로드했던 총 1,200개의 데이터는 모두 삭제하고 아지트 사이트에 기범님이 친절하게 올려주신 6,792개의 데이터를 다시 업로드하였다. test 데이터는 내가 직접 찍은 데이터로 업로드하였다\n",
    "  + 처음에 test 데이터로 김인유 퍼실님 데이터를 사용하였는데 accuracy가 90%이상 나와서 엄청 놀랐지만 생각해보니 train 데이터 6,792개 데이터 안에 인유님 데이터가 들어가 있었다.    \n",
    "    \n",
    "\n",
    " 5. TF Master시간에 퍼실님께서 데이터가 굉장히 중요하다며 유투브 하나를 추천해주셨다.\n",
    "  + 유투브 내용에 딥러닝의 성공요건은 모델보다 데이터라고 말하며 코드를 개선하는 것보다 데이터를 개선하는 것이 더욱 효과적이라고 말하고 있다.      \n",
    "    \n",
    "    \n",
    " 6. accuracy 결과는 만족스럽지 않지만 사실 인공지능의 'ㅇ'도 모르는 내가 코드를 보고 무엇이 잘못되었는지 계속 생각해보고 수정해보고 여러가지 시도를 해본 것이 이번 프로젝트에서 가장 큰 성과가 아닐까 생각한다.  \n",
    " "
   ]
  },
  {
   "cell_type": "markdown",
   "id": "documented-designer",
   "metadata": {},
   "source": [
    "# 결론\n",
    "\n",
    "### * 데이터셋의 양이 많으면 학습 성능도 좋아진다.\n",
    "### * 데이터셋의 질이 좋으면 학습 성능도 좋아진다.  \n",
    "## 뭐니뭐니해도 좋은 데이터를 어떻게 얻을 것이며 어떻게 다루느냐가 가장 중요한 것 같다."
   ]
  }
 ],
 "metadata": {
  "kernelspec": {
   "display_name": "Python 3",
   "language": "python",
   "name": "python3"
  },
  "language_info": {
   "codemirror_mode": {
    "name": "ipython",
    "version": 3
   },
   "file_extension": ".py",
   "mimetype": "text/x-python",
   "name": "python",
   "nbconvert_exporter": "python",
   "pygments_lexer": "ipython3",
   "version": "3.7.9"
  }
 },
 "nbformat": 4,
 "nbformat_minor": 5
}
