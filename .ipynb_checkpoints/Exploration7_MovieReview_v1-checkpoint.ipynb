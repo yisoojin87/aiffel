{
 "cells": [
  {
   "cell_type": "markdown",
   "id": "worthy-matthew",
   "metadata": {},
   "source": [
    "# Exploration7. 네이버 영화리뷰 감성분석 도전하기"
   ]
  },
  {
   "cell_type": "markdown",
   "id": "entertaining-subsection",
   "metadata": {},
   "source": [
    "### 학습 목표\n",
    "##### - 텍스트 데이터를 머신러닝 입출력용 수치데이터로 변환하는 과정을 이해한다.\n",
    "##### - RNN의 특징을 이해하고 시퀀셜한 데이터를 다루는 방법을 이해한다.\n",
    "##### - 1-D CNN으로도 텍스트를 처리할 수 있음을 이해한다.\n",
    "##### - IMDB와 네이버 영화리뷰 데이터셋을 이용한 영화리뷰 감성분류 실습을 진행한다."
   ]
  },
  {
   "cell_type": "markdown",
   "id": "crazy-citation",
   "metadata": {},
   "source": [
    "### 1) 데이터 준비와 확인"
   ]
  },
  {
   "cell_type": "code",
   "execution_count": 1,
   "id": "shared-converter",
   "metadata": {},
   "outputs": [
    {
     "data": {
      "text/html": [
       "<div>\n",
       "<style scoped>\n",
       "    .dataframe tbody tr th:only-of-type {\n",
       "        vertical-align: middle;\n",
       "    }\n",
       "\n",
       "    .dataframe tbody tr th {\n",
       "        vertical-align: top;\n",
       "    }\n",
       "\n",
       "    .dataframe thead th {\n",
       "        text-align: right;\n",
       "    }\n",
       "</style>\n",
       "<table border=\"1\" class=\"dataframe\">\n",
       "  <thead>\n",
       "    <tr style=\"text-align: right;\">\n",
       "      <th></th>\n",
       "      <th>id</th>\n",
       "      <th>document</th>\n",
       "      <th>label</th>\n",
       "    </tr>\n",
       "  </thead>\n",
       "  <tbody>\n",
       "    <tr>\n",
       "      <th>0</th>\n",
       "      <td>9976970</td>\n",
       "      <td>아 더빙.. 진짜 짜증나네요 목소리</td>\n",
       "      <td>0</td>\n",
       "    </tr>\n",
       "    <tr>\n",
       "      <th>1</th>\n",
       "      <td>3819312</td>\n",
       "      <td>흠...포스터보고 초딩영화줄....오버연기조차 가볍지 않구나</td>\n",
       "      <td>1</td>\n",
       "    </tr>\n",
       "    <tr>\n",
       "      <th>2</th>\n",
       "      <td>10265843</td>\n",
       "      <td>너무재밓었다그래서보는것을추천한다</td>\n",
       "      <td>0</td>\n",
       "    </tr>\n",
       "    <tr>\n",
       "      <th>3</th>\n",
       "      <td>9045019</td>\n",
       "      <td>교도소 이야기구먼 ..솔직히 재미는 없다..평점 조정</td>\n",
       "      <td>0</td>\n",
       "    </tr>\n",
       "    <tr>\n",
       "      <th>4</th>\n",
       "      <td>6483659</td>\n",
       "      <td>사이몬페그의 익살스런 연기가 돋보였던 영화!스파이더맨에서 늙어보이기만 했던 커스틴 ...</td>\n",
       "      <td>1</td>\n",
       "    </tr>\n",
       "  </tbody>\n",
       "</table>\n",
       "</div>"
      ],
      "text/plain": [
       "         id                                           document  label\n",
       "0   9976970                                아 더빙.. 진짜 짜증나네요 목소리      0\n",
       "1   3819312                  흠...포스터보고 초딩영화줄....오버연기조차 가볍지 않구나      1\n",
       "2  10265843                                  너무재밓었다그래서보는것을추천한다      0\n",
       "3   9045019                      교도소 이야기구먼 ..솔직히 재미는 없다..평점 조정      0\n",
       "4   6483659  사이몬페그의 익살스런 연기가 돋보였던 영화!스파이더맨에서 늙어보이기만 했던 커스틴 ...      1"
      ]
     },
     "execution_count": 1,
     "metadata": {},
     "output_type": "execute_result"
    }
   ],
   "source": [
    "import pandas as pd\n",
    "import urllib.request\n",
    "%matplotlib inline\n",
    "import matplotlib.pyplot as plt\n",
    "import re\n",
    "from konlpy.tag import Okt\n",
    "from tensorflow import keras\n",
    "from tensorflow.keras.preprocessing.text import Tokenizer\n",
    "import numpy as np\n",
    "from tensorflow.keras.preprocessing.sequence import pad_sequences\n",
    "from collections import Counter\n",
    "\n",
    "# 데이터를 읽어봅시다.\n",
    "train_data = pd.read_table('~/aiffel/sentiment_classification/data/ratings_train.txt')\n",
    "test_data = pd.read_table('~/aiffel/sentiment_classification/data/ratings_test.txt')\n",
    "\n",
    "train_data.head()"
   ]
  },
  {
   "cell_type": "markdown",
   "id": "atmospheric-tradition",
   "metadata": {},
   "source": [
    "### 2) 데이터로더 구성\n",
    "#### - 데이터의 중복 제거\n",
    "#### - NaN 결측치 제거\n",
    "#### - 한국어 토크나이저로 토큰화\n",
    "#### - 불용어(Stopwords) 제거\n",
    "#### - 사전 word_to_index 구성\n",
    "#### - 텍스트 스트링을 사전 인덱스 스트링으로 변환\n",
    "#### - X_train, y_train, X_test, y_test, word_to_index 리턴"
   ]
  },
  {
   "cell_type": "code",
   "execution_count": 2,
   "id": "sapphire-viewer",
   "metadata": {},
   "outputs": [],
   "source": [
    "from konlpy.tag import Mecab\n",
    "tokenizer = Mecab()\n",
    "stopwords=['의', '가', '이', '은', '들', '는', '좀', '잘', '걍', '과', '도', '를', '으로', '자', '에', '와', '한', '하다']\n",
    "\n",
    "def load_data(train_data, test_data, num_words=10000):\n",
    "    train_data.drop_duplicates(subset=['document'], inplace=True)  # 중복데이터 제거\n",
    "    train_data = train_data.dropna(how = 'any')                    # NaN 결측치 제거\n",
    "    test_data.drop_duplicates(subset=['document'], inplace=True)\n",
    "    test_data = test_data.dropna(how='any')\n",
    "    \n",
    "    X_train = []\n",
    "    for sentence in train_data['document']:\n",
    "        temp_X = tokenizer.morphs(sentence)   # 토큰화\n",
    "        temp_X = [word for word in temp_X if not word in stopwords]   # 불용어(stopwords) 제거\n",
    "        X_train.append(temp_X)\n",
    "        \n",
    "    X_test = []\n",
    "    for sentence in test_data['document']:\n",
    "        temp_X = tokenizer.morphs(sentence)   # 토큰화\n",
    "        temp_x = [word for word in temp_X if not word in stopwords]   # 불용어(stopwords) 제거\n",
    "        X_test.append(temp_X)\n",
    "        \n",
    "    words = np.concatenate(X_train).tolist()\n",
    "    counter = Counter(words)\n",
    "    counter = counter.most_common(10000-4)\n",
    "    vocab = ['<PAD>','<BOS>','<UNK>','<UNUSED>'] + [key for key, _ in counter]\n",
    "    word_to_index = {word:index for index, word in enumerate(vocab)}\n",
    "\n",
    "    def wordlist_to_indexlist(wordlist):\n",
    "        return [word_to_index[word] if word in word_to_index else word_to_index['<UNK>'] for word in wordlist]\n",
    "\n",
    "    X_train = list(map(wordlist_to_indexlist, X_train))\n",
    "    X_test = list(map(wordlist_to_indexlist, X_test))\n",
    "    \n",
    "    return X_train, np.array(list(train_data['label'])), X_test, np.array(list(test_data['label'])), word_to_index\n",
    "\n",
    "X_train, y_train, X_test, y_test, word_to_index = load_data(train_data, test_data)"
   ]
  },
  {
   "cell_type": "code",
   "execution_count": 3,
   "id": "secondary-simon",
   "metadata": {},
   "outputs": [],
   "source": [
    "index_to_word = {index:word for word, index in word_to_index.items()}"
   ]
  },
  {
   "cell_type": "code",
   "execution_count": 4,
   "id": "requested-sheep",
   "metadata": {},
   "outputs": [],
   "source": [
    "# 문장 1개를 활용할 딕셔너리와 함께 주면 단어 인덱스 리스트 벡터로 변환해 주는 함수이다.\n",
    "# 단, 모든 문장은 <BOS>로 시작하는 것으로 한다.\n",
    "def get_encoded_sentence(sentence, word_to_index):\n",
    "    return [word_to_index['<BOS>']] + [word_to_index[word] if word in word_to_index else word_to_index['<UNK>'] for word in sentence.split()]\n",
    "\n",
    "# 여러 개의 문장 리스트를 한꺼번에 단어 인덱스 리스트 벡터로 encode해 주는 함수이다.\n",
    "def get_encoded_sentences(sentences, word_to_index):\n",
    "    return [get_encoded_sentence(sentence, word_to_index) for sentence in sentences]\n",
    "\n",
    "# 숫자 벡터로 encode된 문장을 원래대로 decode하는 함수이다.\n",
    "def get_decoded_sentence(encoded_sentence, index_to_word):\n",
    "    return ' '.join(index_to_word[index] if index in index_to_word else '<UNK>' for index in encoded_sentence[1:]) #[1:]를 통해 <BOS>를 제외\n",
    "\n",
    "# 여러 개의 숫자 벡터로 encode된 문장을 한꺼번에 원래대로 decode하는 함수이다.\n",
    "def get_decoded_sentences(encoded_sentences, index_to_word):\n",
    "    return [get_decoded_sentence(encoded_sentence, index_to_word) for encoded_sentence in encoded_sentences]"
   ]
  },
  {
   "cell_type": "markdown",
   "id": "artificial-topic",
   "metadata": {},
   "source": [
    "### 3) 모델구성을 위한 데이터 분석 및 가공\n",
    "#### - 데이터셋 내 문장 길이 분포\n",
    "#### - 적절한 최대 문장 길이 지정\n",
    "#### - keras.preprocessing.sequence.pad_sequences을 활용한 패딩 추가"
   ]
  },
  {
   "cell_type": "code",
   "execution_count": 5,
   "id": "negative-ethiopia",
   "metadata": {},
   "outputs": [
    {
     "name": "stdout",
     "output_type": "stream",
     "text": [
      "문장길이 평균:  16.663328879537623\n",
      "문장길이 최대:  116\n",
      "문장길이 표준편차:  13.572621118443267\n",
      "pad_sequences maxlen :  43\n",
      "전체 문장의 93.40684655905886%가 maxlen 설정값 이내에 포함됩니다.\n"
     ]
    }
   ],
   "source": [
    "# 데이터셋 내 문장 길이 분포 확인\n",
    "total_data_text = list(X_train) + list(X_test)\n",
    "\n",
    "# 텍스트데이터 문장길이의 리스트를 생성한 후\n",
    "num_tokens = [len(tokens) for tokens in total_data_text]\n",
    "num_tokens = np.array(num_tokens)\n",
    "\n",
    "# 문장 길이의 평균값, 최대값, 표준편차를 계산해본다.\n",
    "print('문장길이 평균: ', np.mean(num_tokens))\n",
    "print('문장길이 최대: ', np.max(num_tokens))\n",
    "print('문장길이 표준편차: ', np.std(num_tokens))\n",
    "\n",
    "# 예를 들어, 최대 길이를(평균 + 2*표준편차)로 한다면,\n",
    "max_tokens = np.mean(num_tokens) + 2*np.std(num_tokens)\n",
    "maxlen = int(max_tokens)\n",
    "print('pad_sequences maxlen : ', maxlen)\n",
    "print('전체 문장의 {}%가 maxlen 설정값 이내에 포함됩니다.'.format(np.sum(num_tokens < max_tokens)/len(num_tokens)*100))"
   ]
  },
  {
   "cell_type": "code",
   "execution_count": 6,
   "id": "comparable-electronics",
   "metadata": {},
   "outputs": [
    {
     "name": "stdout",
     "output_type": "stream",
     "text": [
      "(146182, 43) (49157, 43)\n"
     ]
    }
   ],
   "source": [
    "# pre-padding 설정\n",
    "x_train = keras.preprocessing.sequence.pad_sequences(X_train,\n",
    "                                                    value = word_to_index[\"<PAD>\"],\n",
    "                                                    padding = 'pre',\n",
    "                                                    maxlen= maxlen)\n",
    "\n",
    "x_test = keras.preprocessing.sequence.pad_sequences(X_test,\n",
    "                                                   value = word_to_index[\"<PAD>\"],\n",
    "                                                   padding = 'pre',\n",
    "                                                   maxlen = maxlen)\n",
    "\n",
    "print(x_train.shape, x_test.shape)"
   ]
  },
  {
   "cell_type": "markdown",
   "id": "short-depth",
   "metadata": {},
   "source": [
    "### 4) 모델구성 및 validation set 구성\n",
    "##### - 모델은 3가지 이상 다양하게 구성하여 실험해 보세요."
   ]
  },
  {
   "cell_type": "code",
   "execution_count": 7,
   "id": "passive-subdivision",
   "metadata": {},
   "outputs": [
    {
     "name": "stdout",
     "output_type": "stream",
     "text": [
      "Model: \"sequential\"\n",
      "_________________________________________________________________\n",
      "Layer (type)                 Output Shape              Param #   \n",
      "=================================================================\n",
      "embedding (Embedding)        (None, None, 16)          160000    \n",
      "_________________________________________________________________\n",
      "lstm (LSTM)                  (None, 8)                 800       \n",
      "_________________________________________________________________\n",
      "dense (Dense)                (None, 8)                 72        \n",
      "_________________________________________________________________\n",
      "dense_1 (Dense)              (None, 1)                 9         \n",
      "=================================================================\n",
      "Total params: 160,881\n",
      "Trainable params: 160,881\n",
      "Non-trainable params: 0\n",
      "_________________________________________________________________\n"
     ]
    }
   ],
   "source": [
    "# RNN 모델 구성\n",
    "\n",
    "vocab_size = 10000\n",
    "word_vector_dim = 16\n",
    "\n",
    "# LSTM model 설계 \n",
    "model = keras.Sequential()\n",
    "model.add(keras.layers.Embedding(vocab_size, word_vector_dim, input_shape=(None,)))\n",
    "model.add(keras.layers.LSTM(8))   # LSTM state 벡터의 차원수는 8로 하였습니다. (변경가능)\n",
    "model.add(keras.layers.Dense(8, activation='relu'))\n",
    "model.add(keras.layers.Dense(1, activation='sigmoid'))\n",
    "\n",
    "model.summary()"
   ]
  },
  {
   "cell_type": "code",
   "execution_count": 7,
   "id": "physical-consent",
   "metadata": {},
   "outputs": [
    {
     "name": "stdout",
     "output_type": "stream",
     "text": [
      "Model: \"sequential\"\n",
      "_________________________________________________________________\n",
      "Layer (type)                 Output Shape              Param #   \n",
      "=================================================================\n",
      "embedding (Embedding)        (None, None, 16)          160000    \n",
      "_________________________________________________________________\n",
      "global_max_pooling1d (Global (None, 16)                0         \n",
      "_________________________________________________________________\n",
      "dense (Dense)                (None, 8)                 136       \n",
      "_________________________________________________________________\n",
      "dense_1 (Dense)              (None, 1)                 9         \n",
      "=================================================================\n",
      "Total params: 160,145\n",
      "Trainable params: 160,145\n",
      "Non-trainable params: 0\n",
      "_________________________________________________________________\n"
     ]
    }
   ],
   "source": [
    "# # RNN 모델 구성\n",
    "\n",
    "# vocab_size = 10000\n",
    "# word_vector_dim = 16\n",
    "\n",
    "# # GlobalMaxPooling1D model 설계  ( loss: 0.5681 - accuracy: 0.8223 )\n",
    "# model = keras.Sequential()\n",
    "# model.add(keras.layers.Embedding(vocab_size, word_vector_dim, input_shape=(None,)))\n",
    "# model.add(keras.layers.GlobalMaxPooling1D())\n",
    "# model.add(keras.layers.Dense(8, activation='relu'))\n",
    "# model.add(keras.layers.Dense(1, activation='sigmoid'))\n",
    "\n",
    "# model.summary()"
   ]
  },
  {
   "cell_type": "code",
   "execution_count": 8,
   "id": "coral-excellence",
   "metadata": {},
   "outputs": [
    {
     "name": "stdout",
     "output_type": "stream",
     "text": [
      "Model: \"sequential\"\n",
      "_________________________________________________________________\n",
      "Layer (type)                 Output Shape              Param #   \n",
      "=================================================================\n",
      "embedding (Embedding)        (None, None, 16)          160000    \n",
      "_________________________________________________________________\n",
      "conv1d (Conv1D)              (None, None, 16)          1808      \n",
      "_________________________________________________________________\n",
      "max_pooling1d (MaxPooling1D) (None, None, 16)          0         \n",
      "_________________________________________________________________\n",
      "conv1d_1 (Conv1D)            (None, None, 16)          1808      \n",
      "_________________________________________________________________\n",
      "global_max_pooling1d (Global (None, 16)                0         \n",
      "_________________________________________________________________\n",
      "dense (Dense)                (None, 8)                 136       \n",
      "_________________________________________________________________\n",
      "dense_1 (Dense)              (None, 1)                 9         \n",
      "=================================================================\n",
      "Total params: 163,761\n",
      "Trainable params: 163,761\n",
      "Non-trainable params: 0\n",
      "_________________________________________________________________\n"
     ]
    }
   ],
   "source": [
    "# # RNN 모델 구성\n",
    "\n",
    "# vocab_size = 10000\n",
    "# word_vector_dim = 16\n",
    "\n",
    "# # Conv1D model 설계 (loss: 1.2054 - accuracy: 0.7769)\n",
    "# model = keras.Sequential()\n",
    "# model.add(keras.layers.Embedding(vocab_size, word_vector_dim, input_shape=(None,)))\n",
    "# model.add(keras.layers.Conv1D(16, 7, activation='relu'))\n",
    "# model.add(keras.layers.MaxPool1D(5))\n",
    "# model.add(keras.layers.Conv1D(16, 7, activation='relu'))\n",
    "# model.add(keras.layers.GlobalMaxPooling1D())\n",
    "# model.add(keras.layers.Dense(8, activation='relu'))\n",
    "# model.add(keras.layers.Dense(1, activation='sigmoid'))  # 최종 출력은 긍정/부정을 나타내는 1dim이다.\n",
    "\n",
    "# model.summary()"
   ]
  },
  {
   "cell_type": "code",
   "execution_count": 8,
   "id": "constitutional-chair",
   "metadata": {},
   "outputs": [
    {
     "name": "stdout",
     "output_type": "stream",
     "text": [
      "(106182, 43)\n",
      "(106182,)\n"
     ]
    }
   ],
   "source": [
    "# validation set 구성\n",
    "x_val = x_train[:40000]\n",
    "y_val = y_train[:40000]\n",
    "\n",
    "# validation set을 제외한 나머지\n",
    "partial_x_train = x_train[40000:]\n",
    "partial_y_train = y_train[40000:]\n",
    "\n",
    "print(partial_x_train.shape)\n",
    "print(partial_y_train.shape)"
   ]
  },
  {
   "cell_type": "markdown",
   "id": "governing-johns",
   "metadata": {},
   "source": [
    "### 5) 모델 훈련 개시"
   ]
  },
  {
   "cell_type": "code",
   "execution_count": 9,
   "id": "architectural-likelihood",
   "metadata": {},
   "outputs": [
    {
     "name": "stdout",
     "output_type": "stream",
     "text": [
      "Epoch 1/20\n",
      "208/208 [==============================] - 6s 16ms/step - loss: 0.6308 - accuracy: 0.6698 - val_loss: 0.3870 - val_accuracy: 0.8387\n",
      "Epoch 2/20\n",
      "208/208 [==============================] - 2s 11ms/step - loss: 0.3613 - accuracy: 0.8515 - val_loss: 0.3518 - val_accuracy: 0.8484\n",
      "Epoch 3/20\n",
      "208/208 [==============================] - 2s 11ms/step - loss: 0.3201 - accuracy: 0.8694 - val_loss: 0.3500 - val_accuracy: 0.8486\n",
      "Epoch 4/20\n",
      "208/208 [==============================] - 2s 11ms/step - loss: 0.3043 - accuracy: 0.8759 - val_loss: 0.3512 - val_accuracy: 0.8497\n",
      "Epoch 5/20\n",
      "208/208 [==============================] - 2s 11ms/step - loss: 0.2938 - accuracy: 0.8817 - val_loss: 0.3527 - val_accuracy: 0.8491\n",
      "Epoch 6/20\n",
      "208/208 [==============================] - 2s 11ms/step - loss: 0.2895 - accuracy: 0.8828 - val_loss: 0.3550 - val_accuracy: 0.8486\n",
      "Epoch 7/20\n",
      "208/208 [==============================] - 2s 11ms/step - loss: 0.2776 - accuracy: 0.8875 - val_loss: 0.3557 - val_accuracy: 0.8480\n",
      "Epoch 8/20\n",
      "208/208 [==============================] - 2s 11ms/step - loss: 0.2687 - accuracy: 0.8908 - val_loss: 0.3579 - val_accuracy: 0.8475\n",
      "Epoch 9/20\n",
      "208/208 [==============================] - 2s 11ms/step - loss: 0.2599 - accuracy: 0.8937 - val_loss: 0.3660 - val_accuracy: 0.8472\n",
      "Epoch 10/20\n",
      "208/208 [==============================] - 2s 11ms/step - loss: 0.2504 - accuracy: 0.8967 - val_loss: 0.3820 - val_accuracy: 0.8468\n",
      "Epoch 11/20\n",
      "208/208 [==============================] - 2s 11ms/step - loss: 0.2371 - accuracy: 0.9026 - val_loss: 0.3906 - val_accuracy: 0.8474\n",
      "Epoch 12/20\n",
      "208/208 [==============================] - 2s 11ms/step - loss: 0.2275 - accuracy: 0.9062 - val_loss: 0.3954 - val_accuracy: 0.8449\n",
      "Epoch 13/20\n",
      "208/208 [==============================] - 2s 11ms/step - loss: 0.2185 - accuracy: 0.9105 - val_loss: 0.4150 - val_accuracy: 0.8447\n",
      "Epoch 14/20\n",
      "208/208 [==============================] - 2s 11ms/step - loss: 0.2095 - accuracy: 0.9142 - val_loss: 0.4208 - val_accuracy: 0.8442\n",
      "Epoch 15/20\n",
      "208/208 [==============================] - 2s 11ms/step - loss: 0.2028 - accuracy: 0.9191 - val_loss: 0.4384 - val_accuracy: 0.8444\n",
      "Epoch 16/20\n",
      "208/208 [==============================] - 2s 11ms/step - loss: 0.1927 - accuracy: 0.9226 - val_loss: 0.4422 - val_accuracy: 0.8411\n",
      "Epoch 17/20\n",
      "208/208 [==============================] - 2s 11ms/step - loss: 0.1876 - accuracy: 0.9260 - val_loss: 0.4647 - val_accuracy: 0.8404\n",
      "Epoch 18/20\n",
      "208/208 [==============================] - 2s 11ms/step - loss: 0.1791 - accuracy: 0.9300 - val_loss: 0.4805 - val_accuracy: 0.8417\n",
      "Epoch 19/20\n",
      "208/208 [==============================] - 2s 11ms/step - loss: 0.1702 - accuracy: 0.9335 - val_loss: 0.4884 - val_accuracy: 0.8386\n",
      "Epoch 20/20\n",
      "208/208 [==============================] - 2s 11ms/step - loss: 0.1668 - accuracy: 0.9356 - val_loss: 0.5225 - val_accuracy: 0.8402\n"
     ]
    }
   ],
   "source": [
    "model.compile(optimizer='adam',\n",
    "             loss = 'binary_crossentropy',\n",
    "             metrics = ['accuracy'])\n",
    "\n",
    "epochs=20   # 몇 epoch를 훈련하면 좋을지 결과를 보며 바꾸어 봅시다.\n",
    "\n",
    "history = model.fit(partial_x_train,\n",
    "                   partial_y_train,\n",
    "                   epochs = epochs,\n",
    "                   batch_size=512,\n",
    "                   validation_data=(x_val, y_val),\n",
    "                   verbose=1)"
   ]
  },
  {
   "cell_type": "code",
   "execution_count": 10,
   "id": "dimensional-discharge",
   "metadata": {},
   "outputs": [
    {
     "name": "stdout",
     "output_type": "stream",
     "text": [
      "1537/1537 - 5s - loss: 0.5081 - accuracy: 0.8299\n",
      "[0.5080628395080566, 0.829871654510498]\n"
     ]
    }
   ],
   "source": [
    "# 학습이 끝난 모델을 테스트셋으로 평가해 봅시다. \n",
    "results = model.evaluate(x_test, y_test, verbose=2)\n",
    "print(results)"
   ]
  },
  {
   "cell_type": "markdown",
   "id": "living-flood",
   "metadata": {},
   "source": [
    "### 6) Loss, Accuracy 그래프 시각화"
   ]
  },
  {
   "cell_type": "code",
   "execution_count": 11,
   "id": "general-spray",
   "metadata": {},
   "outputs": [
    {
     "name": "stdout",
     "output_type": "stream",
     "text": [
      "dict_keys(['loss', 'accuracy', 'val_loss', 'val_accuracy'])\n"
     ]
    },
    {
     "data": {
      "image/png": "[encoded data removed]",
      "text/plain": [
       "<Figure size 432x288 with 1 Axes>"
      ]
     },
     "metadata": {
      "needs_background": "light"
     },
     "output_type": "display_data"
    },
    {
     "data": {
      "image/png": "[encoded data removed]",
      "text/plain": [
       "<Figure size 432x288 with 1 Axes>"
      ]
     },
     "metadata": {
      "needs_background": "light"
     },
     "output_type": "display_data"
    }
   ],
   "source": [
    "# 그래프로 그려봅시다.\n",
    "history_dict = history.history\n",
    "print(history_dict.keys())  # epoch에 따른 그래프를 그려볼 수 있는 항목들\n",
    "\n",
    "acc = history_dict['accuracy']\n",
    "val_acc = history_dict['val_accuracy']\n",
    "loss = history_dict['loss']\n",
    "val_loss = history_dict['val_loss']\n",
    "\n",
    "epochs = range(1, len(acc)+1)\n",
    "\n",
    "plt.plot(epochs, loss, 'bo', label='Training loss')\n",
    "plt.plot(epochs, val_loss, 'b', label ='Validation loss')\n",
    "plt.title('Training and validation loss')\n",
    "plt.xlabel('Epochs')\n",
    "plt.ylabel('Loss')\n",
    "plt.legend()\n",
    "\n",
    "plt.show()\n",
    "\n",
    "plt.clf()   # 그림을 초기화합니다.\n",
    "\n",
    "plt.plot(epochs, acc, 'bo', label='Training accuracy')\n",
    "plt.plot(epochs, val_acc, 'b', label='Validation accuracy')\n",
    "plt.title('Training and Validation accuracy')\n",
    "plt.xlabel('Epochs')\n",
    "plt.ylabel('Accuracy')\n",
    "plt.legend()\n",
    "\n",
    "plt.show()"
   ]
  },
  {
   "cell_type": "markdown",
   "id": "sexual-inspiration",
   "metadata": {},
   "source": [
    "### 7) 학습된 Embedding 레이어 분석"
   ]
  },
  {
   "cell_type": "code",
   "execution_count": 12,
   "id": "precious-session",
   "metadata": {},
   "outputs": [
    {
     "name": "stdout",
     "output_type": "stream",
     "text": [
      "gensim                        3.8.3\n",
      "\u001b[33mWARNING: You are using pip version 20.3.3; however, version 21.3.1 is available.\n",
      "You should consider upgrading via the '/opt/conda/bin/python3.7 -m pip install --upgrade pip' command.\u001b[0m\n"
     ]
    }
   ],
   "source": [
    "!pip list | grep gensim"
   ]
  },
  {
   "cell_type": "code",
   "execution_count": 13,
   "id": "oriental-yukon",
   "metadata": {},
   "outputs": [
    {
     "name": "stdout",
     "output_type": "stream",
     "text": [
      "(10000, 16)\n"
     ]
    }
   ],
   "source": [
    "embedding_layer = model.layers[0]\n",
    "weights = embedding_layer.get_weights()[0]\n",
    "print(weights.shape)"
   ]
  },
  {
   "cell_type": "code",
   "execution_count": 14,
   "id": "nearby-short",
   "metadata": {},
   "outputs": [],
   "source": [
    "import os\n",
    "\n",
    "# 학습한 Embedding 파라미터를 파일에 써서 저장합니다.\n",
    "word2vec_file_path = os.getenv('HOME')+'/aiffel/sentiment_classification/data/word2vec.txt'\n",
    "f = open(word2vec_file_path, 'w')\n",
    "f.write('{} {}\\n'.format(vocab_size-4, word_vector_dim)) \n",
    "\n",
    "# 단어 개수(에서 특수문자 4개는 제외하고)만큼의 워드 벡터를 파일에 기록한다.\n",
    "vectors = model.get_weights()[0]\n",
    "for i in range(4, vocab_size):\n",
    "    f.write('{} {}\\n'.format(index_to_word[i],' '.join(map(str, list(vectors[i,:])))))\n",
    "f.close()"
   ]
  },
  {
   "cell_type": "code",
   "execution_count": 15,
   "id": "rental-pixel",
   "metadata": {},
   "outputs": [],
   "source": [
    "# gensim에서 제공하는 패키지를 이용해, 임베딩 파라미터를 읽어서 word vector로 활용할 수 있다.\n",
    "from gensim.models.keyedvectors import Word2VecKeyedVectors\n",
    "\n",
    "word_vectors = Word2VecKeyedVectors.load_word2vec_format(word2vec_file_path, binary=False)"
   ]
  },
  {
   "cell_type": "code",
   "execution_count": 16,
   "id": "formal-elizabeth",
   "metadata": {},
   "outputs": [
    {
     "data": {
      "text/plain": [
       "[('중심', 0.9426571130752563),\n",
       " ('텐', 0.9308044910430908),\n",
       " ('아이템', 0.9238382577896118),\n",
       " ('SF', 0.922792911529541),\n",
       " ('슬립', 0.9224648475646973),\n",
       " ('띠', 0.9212126731872559),\n",
       " ('숲', 0.9207635521888733),\n",
       " ('똘똘', 0.9161413311958313),\n",
       " ('잔잔히', 0.913780152797699),\n",
       " ('마디', 0.9118043780326843)]"
      ]
     },
     "execution_count": 16,
     "metadata": {},
     "output_type": "execute_result"
    }
   ],
   "source": [
    "word_vectors.similar_by_word(\"집중\")"
   ]
  },
  {
   "cell_type": "markdown",
   "id": "numerical-evidence",
   "metadata": {},
   "source": [
    "### 8) 한국어 Word2Vec 임베딩 활용하여 성능개선"
   ]
  },
  {
   "cell_type": "code",
   "execution_count": 17,
   "id": "intimate-joseph",
   "metadata": {},
   "outputs": [
    {
     "name": "stdout",
     "output_type": "stream",
     "text": [
      "[('액션', 0.6752270460128784), ('게임기', 0.6604888439178467), ('콘솔', 0.6558898091316223), ('슈팅', 0.6405965089797974), ('아케이드', 0.6360284090042114), ('퍼즐', 0.6304599642753601), ('어드벤처', 0.6224750280380249), ('닌텐도', 0.6071302890777588), ('애니메이션', 0.6063961386680603), ('온라인', 0.6031370759010315)]\n"
     ]
    }
   ],
   "source": [
    "from gensim.models import KeyedVectors\n",
    "import gensim\n",
    "\n",
    "word2vec_path = os.getenv('HOME')+'/aiffel/sentiment_classification/ko.bin'\n",
    "word2vec = gensim.models.Word2Vec.load(word2vec_path)\n",
    "\n",
    "print(word2vec.wv.most_similar(\"게임\"))"
   ]
  },
  {
   "cell_type": "code",
   "execution_count": 18,
   "id": "novel-savings",
   "metadata": {},
   "outputs": [
    {
     "name": "stderr",
     "output_type": "stream",
     "text": [
      "/opt/conda/lib/python3.7/site-packages/ipykernel_launcher.py:7: DeprecationWarning: Call to deprecated `__contains__` (Method will be removed in 4.0.0, use self.wv.__contains__() instead).\n",
      "  import sys\n",
      "/opt/conda/lib/python3.7/site-packages/ipykernel_launcher.py:8: DeprecationWarning: Call to deprecated `__getitem__` (Method will be removed in 4.0.0, use self.wv.__getitem__() instead).\n",
      "  \n"
     ]
    },
    {
     "name": "stdout",
     "output_type": "stream",
     "text": [
      "Model: \"sequential_1\"\n",
      "_________________________________________________________________\n",
      "Layer (type)                 Output Shape              Param #   \n",
      "=================================================================\n",
      "embedding_1 (Embedding)      (None, 43, 200)           2000000   \n",
      "_________________________________________________________________\n",
      "lstm_1 (LSTM)                (None, 128)               168448    \n",
      "_________________________________________________________________\n",
      "dense_2 (Dense)              (None, 8)                 1032      \n",
      "_________________________________________________________________\n",
      "dense_3 (Dense)              (None, 1)                 9         \n",
      "=================================================================\n",
      "Total params: 2,169,489\n",
      "Trainable params: 2,169,489\n",
      "Non-trainable params: 0\n",
      "_________________________________________________________________\n"
     ]
    }
   ],
   "source": [
    "vocab_size = 10000\n",
    "word_vector_dim = 200\n",
    "\n",
    "embedding_matrix = np.random.rand(vocab_size, word_vector_dim)\n",
    "\n",
    "for i in range(4, vocab_size):\n",
    "    if index_to_word[i] in word2vec:\n",
    "        embedding_matrix[i] = word2vec[index_to_word[i]]\n",
    "        \n",
    "# 모델 설계\n",
    "from tensorflow.keras.initializers import Constant\n",
    "\n",
    "vocab_size = 10000\n",
    "word_vector_dim = 200\n",
    "\n",
    "model = keras.Sequential()\n",
    "model.add(keras.layers.Embedding(vocab_size,\n",
    "                                word_vector_dim,\n",
    "                                embeddings_initializer = Constant(embedding_matrix),\n",
    "                                input_length = maxlen,\n",
    "                                trainable=True))\n",
    "model.add(keras.layers.LSTM(128))\n",
    "model.add(keras.layers.Dense(8, activation='relu'))\n",
    "model.add(keras.layers.Dense(1, activation='sigmoid'))\n",
    "\n",
    "model.summary()"
   ]
  },
  {
   "cell_type": "code",
   "execution_count": 19,
   "id": "hearing-thriller",
   "metadata": {},
   "outputs": [
    {
     "name": "stdout",
     "output_type": "stream",
     "text": [
      "Epoch 1/15\n",
      "52/52 [==============================] - 10s 151ms/step - loss: 0.6102 - accuracy: 0.6540 - val_loss: 0.4834 - val_accuracy: 0.7655\n",
      "Epoch 2/15\n",
      "52/52 [==============================] - 7s 139ms/step - loss: 0.4421 - accuracy: 0.7950 - val_loss: 0.3859 - val_accuracy: 0.8272\n",
      "Epoch 3/15\n",
      "52/52 [==============================] - 7s 141ms/step - loss: 0.3641 - accuracy: 0.8409 - val_loss: 0.3497 - val_accuracy: 0.8461\n",
      "Epoch 4/15\n",
      "52/52 [==============================] - 7s 139ms/step - loss: 0.3150 - accuracy: 0.8657 - val_loss: 0.3366 - val_accuracy: 0.8538\n",
      "Epoch 5/15\n",
      "52/52 [==============================] - 7s 141ms/step - loss: 0.2844 - accuracy: 0.8820 - val_loss: 0.3323 - val_accuracy: 0.8576\n",
      "Epoch 6/15\n",
      "52/52 [==============================] - 7s 140ms/step - loss: 0.2629 - accuracy: 0.8926 - val_loss: 0.3356 - val_accuracy: 0.8579\n",
      "Epoch 7/15\n",
      "52/52 [==============================] - 7s 140ms/step - loss: 0.2459 - accuracy: 0.9011 - val_loss: 0.3330 - val_accuracy: 0.8597\n",
      "Epoch 8/15\n",
      "52/52 [==============================] - 7s 138ms/step - loss: 0.2274 - accuracy: 0.9097 - val_loss: 0.3358 - val_accuracy: 0.8620\n",
      "Epoch 9/15\n",
      "52/52 [==============================] - 7s 140ms/step - loss: 0.2133 - accuracy: 0.9163 - val_loss: 0.3540 - val_accuracy: 0.8515\n",
      "Epoch 10/15\n",
      "52/52 [==============================] - 7s 141ms/step - loss: 0.2034 - accuracy: 0.9208 - val_loss: 0.3601 - val_accuracy: 0.8584\n",
      "Epoch 11/15\n",
      "52/52 [==============================] - 7s 139ms/step - loss: 0.1787 - accuracy: 0.9326 - val_loss: 0.3761 - val_accuracy: 0.8526\n",
      "Epoch 12/15\n",
      "52/52 [==============================] - 7s 141ms/step - loss: 0.1708 - accuracy: 0.9364 - val_loss: 0.3784 - val_accuracy: 0.8549\n",
      "Epoch 13/15\n",
      "52/52 [==============================] - 7s 139ms/step - loss: 0.1492 - accuracy: 0.9466 - val_loss: 0.4090 - val_accuracy: 0.8524\n",
      "Epoch 14/15\n",
      "52/52 [==============================] - 7s 139ms/step - loss: 0.1405 - accuracy: 0.9500 - val_loss: 0.4322 - val_accuracy: 0.8504\n",
      "Epoch 15/15\n",
      "52/52 [==============================] - 7s 139ms/step - loss: 0.1239 - accuracy: 0.9570 - val_loss: 0.4460 - val_accuracy: 0.8504\n"
     ]
    }
   ],
   "source": [
    "# 모델 학습\n",
    "\n",
    "model.compile(optimizer='adam',\n",
    "             loss = 'binary_crossentropy',\n",
    "             metrics=['accuracy'])\n",
    "\n",
    "epochs=15\n",
    "\n",
    "history = model.fit(partial_x_train,\n",
    "                   partial_y_train,\n",
    "                   epochs = epochs,\n",
    "                   batch_size=2056,\n",
    "                   validation_data=(x_val, y_val),\n",
    "                   verbose=1)"
   ]
  },
  {
   "cell_type": "code",
   "execution_count": 20,
   "id": "built-flight",
   "metadata": {},
   "outputs": [
    {
     "name": "stdout",
     "output_type": "stream",
     "text": [
      "1537/1537 - 6s - loss: 0.4643 - accuracy: 0.8435\n",
      "[0.46426960825920105, 0.8435420989990234]\n"
     ]
    }
   ],
   "source": [
    "# 학습이 끝난 모델을 테스트셋으로 평가해 봅시다. \n",
    "results = model.evaluate(x_test, y_test, verbose=2)\n",
    "print(results)"
   ]
  },
  {
   "cell_type": "markdown",
   "id": "awful-electronics",
   "metadata": {},
   "source": [
    "# 회고"
   ]
  },
  {
   "cell_type": "markdown",
   "id": "pediatric-potato",
   "metadata": {},
   "source": [
    "1. 지난번 Ex.4에서는 영어로 된 단어들을 입력하면 다음에 자동으로 연관된 문장이 만들어지는 '인공지능 작사가 만들기'를 했었는데 이번에는 영어가 아닌 한글로 된 영화 리뷰 감성분석을 해보니 역시 언어의 구조차이로 인해 데이터 처리를 많이 해야하는 것이 굉장히 어렵게 느껴졌다.\n",
    "    \n",
    "    \n",
    "2. 세 가지의 모델을 사용했지만 정확도의 차이는 그렇게 차이나지 않았다. 역시나 하이퍼파라미터를 어떻게 입력하느냐에 따른 것 같다는 생각이 들었다. \n",
    "    \n",
    "    \n",
    "3. Word2Vec을 이용하여 성능을 개선해 보는 실습을 했지만 아쉽게도 정확도가 85%는 넘지 못하였다. 아직 모델을 설계하는 정확한 이해가 없이 무작정 정확도를 올리려고 하니까 더 어렵게 느껴지는 것 같다. "
   ]
  }
 ],
 "metadata": {
  "kernelspec": {
   "display_name": "Python 3",
   "language": "python",
   "name": "python3"
  },
  "language_info": {
   "codemirror_mode": {
    "name": "ipython",
    "version": 3
   },
   "file_extension": ".py",
   "mimetype": "text/x-python",
   "name": "python",
   "nbconvert_exporter": "python",
   "pygments_lexer": "ipython3",
   "version": "3.7.9"
  }
 },
 "nbformat": 4,
 "nbformat_minor": 5
}
