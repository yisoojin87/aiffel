{
 "cells": [
  {
   "cell_type": "markdown",
   "id": "champion-blogger",
   "metadata": {},
   "source": [
    "# 프로젝트 1-(1) : load_digits 손글씨를 분류해 봅시다."
   ]
  },
  {
   "cell_type": "code",
   "execution_count": 1,
   "id": "religious-identifier",
   "metadata": {},
   "outputs": [],
   "source": [
    "# 필요한 모듈 import 하기\n",
    "\n",
    "from sklearn.datasets import load_digits\n",
    "from sklearn.model_selection import train_test_split\n",
    "from sklearn.metrics import classification_report\n"
   ]
  },
  {
   "cell_type": "code",
   "execution_count": 2,
   "id": "sound-savage",
   "metadata": {},
   "outputs": [
    {
     "data": {
      "text/plain": [
       "dict_keys(['data', 'target', 'frame', 'feature_names', 'target_names', 'images', 'DESCR'])"
      ]
     },
     "execution_count": 2,
     "metadata": {},
     "output_type": "execute_result"
    }
   ],
   "source": [
    "# 데이터 준비\n",
    "\n",
    "digits = load_digits()\n",
    "digits.keys()"
   ]
  },
  {
   "cell_type": "code",
   "execution_count": 3,
   "id": "lucky-debate",
   "metadata": {},
   "outputs": [
    {
     "name": "stdout",
     "output_type": "stream",
     "text": [
      "(1797, 64)\n"
     ]
    },
    {
     "data": {
      "text/plain": [
       "array([ 0.,  0.,  5., 13.,  9.,  1.,  0.,  0.,  0.,  0., 13., 15., 10.,\n",
       "       15.,  5.,  0.,  0.,  3., 15.,  2.,  0., 11.,  8.,  0.,  0.,  4.,\n",
       "       12.,  0.,  0.,  8.,  8.,  0.,  0.,  5.,  8.,  0.,  0.,  9.,  8.,\n",
       "        0.,  0.,  4., 11.,  0.,  1., 12.,  7.,  0.,  0.,  2., 14.,  5.,\n",
       "       10., 12.,  0.,  0.,  0.,  0.,  6., 13., 10.,  0.,  0.,  0.])"
      ]
     },
     "execution_count": 3,
     "metadata": {},
     "output_type": "execute_result"
    }
   ],
   "source": [
    "# 데이터 이해하기\n",
    "\n",
    "# Feature Data 지정하기\n",
    "\n",
    "digits_data = digits.data\n",
    "print(digits_data.shape)\n",
    "digits_data[0]"
   ]
  },
  {
   "cell_type": "code",
   "execution_count": 4,
   "id": "canadian-demand",
   "metadata": {},
   "outputs": [
    {
     "name": "stdout",
     "output_type": "stream",
     "text": [
      "(1797,)\n"
     ]
    },
    {
     "data": {
      "text/plain": [
       "array([0, 1, 2, 3, 4, 5, 6, 7, 8, 9, 0, 1, 2, 3, 4, 5, 6, 7, 8, 9, 0, 1,\n",
       "       2, 3, 4, 5, 6, 7, 8, 9])"
      ]
     },
     "execution_count": 4,
     "metadata": {},
     "output_type": "execute_result"
    }
   ],
   "source": [
    "# Label(Target) Data 지정하기\n",
    "\n",
    "digits_target = digits.target\n",
    "print(digits_target.shape)\n",
    "digits_target [ : 30]"
   ]
  },
  {
   "cell_type": "code",
   "execution_count": 5,
   "id": "oriented-specialist",
   "metadata": {},
   "outputs": [
    {
     "data": {
      "text/plain": [
       "array([0, 1, 2, 3, 4, 5, 6, 7, 8, 9])"
      ]
     },
     "execution_count": 5,
     "metadata": {},
     "output_type": "execute_result"
    }
   ],
   "source": [
    "# Target Names 출력해 보기\n",
    "\n",
    "digits.target_names"
   ]
  },
  {
   "cell_type": "code",
   "execution_count": 6,
   "id": "broken-newfoundland",
   "metadata": {},
   "outputs": [
    {
     "name": "stdout",
     "output_type": "stream",
     "text": [
      ".. _digits_dataset:\n",
      "\n",
      "Optical recognition of handwritten digits dataset\n",
      "--------------------------------------------------\n",
      "\n",
      "**Data Set Characteristics:**\n",
      "\n",
      "    :Number of Instances: 5620\n",
      "    :Number of Attributes: 64\n",
      "    :Attribute Information: 8x8 image of integer pixels in the range 0..16.\n",
      "    :Missing Attribute Values: None\n",
      "    :Creator: E. Alpaydin (alpaydin '@' boun.edu.tr)\n",
      "    :Date: July; 1998\n",
      "\n",
      "This is a copy of the test set of the UCI ML hand-written digits datasets\n",
      "https://archive.ics.uci.edu/ml/datasets/Optical+Recognition+of+Handwritten+Digits\n",
      "\n",
      "The data set contains images of hand-written digits: 10 classes where\n",
      "each class refers to a digit.\n",
      "\n",
      "Preprocessing programs made available by NIST were used to extract\n",
      "normalized bitmaps of handwritten digits from a preprinted form. From a\n",
      "total of 43 people, 30 contributed to the training set and different 13\n",
      "to the test set. 32x32 bitmaps are divided into nonoverlapping blocks of\n",
      "4x4 and the number of on pixels are counted in each block. This generates\n",
      "an input matrix of 8x8 where each element is an integer in the range\n",
      "0..16. This reduces dimensionality and gives invariance to small\n",
      "distortions.\n",
      "\n",
      "For info on NIST preprocessing routines, see M. D. Garris, J. L. Blue, G.\n",
      "T. Candela, D. L. Dimmick, J. Geist, P. J. Grother, S. A. Janet, and C.\n",
      "L. Wilson, NIST Form-Based Handprint Recognition System, NISTIR 5469,\n",
      "1994.\n",
      "\n",
      ".. topic:: References\n",
      "\n",
      "  - C. Kaynak (1995) Methods of Combining Multiple Classifiers and Their\n",
      "    Applications to Handwritten Digit Recognition, MSc Thesis, Institute of\n",
      "    Graduate Studies in Science and Engineering, Bogazici University.\n",
      "  - E. Alpaydin, C. Kaynak (1998) Cascading Classifiers, Kybernetika.\n",
      "  - Ken Tang and Ponnuthurai N. Suganthan and Xi Yao and A. Kai Qin.\n",
      "    Linear dimensionalityreduction using relevance weighted LDA. School of\n",
      "    Electrical and Electronic Engineering Nanyang Technological University.\n",
      "    2005.\n",
      "  - Claudio Gentile. A New Approximate Maximal Margin Classification\n",
      "    Algorithm. NIPS. 2000.\n"
     ]
    }
   ],
   "source": [
    "# 데이터 Describe 해보기\n",
    "\n",
    "print(digits.DESCR)"
   ]
  },
  {
   "cell_type": "code",
   "execution_count": 7,
   "id": "encouraging-forwarding",
   "metadata": {},
   "outputs": [],
   "source": [
    "# train, test 데이터 분리\n",
    "\n",
    "X_train, X_test, y_train, y_test = train_test_split(digits_data, \n",
    "                                                    digits_target,\n",
    "                                                    test_size = 0.2,\n",
    "                                                    random_state = 16)"
   ]
  },
  {
   "cell_type": "markdown",
   "id": "fresh-constant",
   "metadata": {},
   "source": [
    "### <다양한 모델로 학습시켜보기>"
   ]
  },
  {
   "cell_type": "code",
   "execution_count": 8,
   "id": "explicit-feeling",
   "metadata": {},
   "outputs": [
    {
     "name": "stdout",
     "output_type": "stream",
     "text": [
      "              precision    recall  f1-score   support\n",
      "\n",
      "           0       0.94      0.89      0.91        35\n",
      "           1       0.72      0.76      0.74        34\n",
      "           2       0.83      0.86      0.85        35\n",
      "           3       0.79      0.81      0.80        37\n",
      "           4       0.84      0.79      0.82        39\n",
      "           5       0.86      0.80      0.83        30\n",
      "           6       0.81      0.97      0.88        35\n",
      "           7       0.95      0.80      0.86        44\n",
      "           8       0.79      0.72      0.75        36\n",
      "           9       0.72      0.83      0.77        35\n",
      "\n",
      "    accuracy                           0.82       360\n",
      "   macro avg       0.82      0.82      0.82       360\n",
      "weighted avg       0.83      0.82      0.82       360\n",
      "\n"
     ]
    }
   ],
   "source": [
    "# DecisionTree 사용해보기\n",
    "\n",
    "from sklearn.tree import DecisionTreeClassifier\n",
    "\n",
    "decision_tree = DecisionTreeClassifier(random_state = 16)\n",
    "decision_tree.fit(X_train, y_train)\n",
    "decision_tree_y_pred = decision_tree.predict(X_test)\n",
    "\n",
    "print(classification_report(y_test, decision_tree_y_pred))"
   ]
  },
  {
   "cell_type": "code",
   "execution_count": 9,
   "id": "christian-angola",
   "metadata": {},
   "outputs": [
    {
     "name": "stdout",
     "output_type": "stream",
     "text": [
      "              precision    recall  f1-score   support\n",
      "\n",
      "           0       1.00      1.00      1.00        35\n",
      "           1       0.97      1.00      0.99        34\n",
      "           2       0.97      1.00      0.99        35\n",
      "           3       0.97      0.97      0.97        37\n",
      "           4       0.95      1.00      0.97        39\n",
      "           5       1.00      0.97      0.98        30\n",
      "           6       1.00      1.00      1.00        35\n",
      "           7       0.98      0.98      0.98        44\n",
      "           8       0.97      0.92      0.94        36\n",
      "           9       0.97      0.94      0.96        35\n",
      "\n",
      "    accuracy                           0.98       360\n",
      "   macro avg       0.98      0.98      0.98       360\n",
      "weighted avg       0.98      0.98      0.98       360\n",
      "\n"
     ]
    }
   ],
   "source": [
    "# RandomForest 사용해 보기\n",
    "\n",
    "from sklearn.ensemble import RandomForestClassifier\n",
    "\n",
    "random_forest = RandomForestClassifier()\n",
    "random_forest.fit(X_train, y_train)\n",
    "random_forest_y_pred = random_forest.predict(X_test)\n",
    "\n",
    "print(classification_report(y_test, random_forest_y_pred))"
   ]
  },
  {
   "cell_type": "code",
   "execution_count": 10,
   "id": "listed-edwards",
   "metadata": {},
   "outputs": [
    {
     "name": "stdout",
     "output_type": "stream",
     "text": [
      "classifier\n",
      "              precision    recall  f1-score   support\n",
      "\n",
      "           0       1.00      1.00      1.00        35\n",
      "           1       0.97      1.00      0.99        34\n",
      "           2       1.00      1.00      1.00        35\n",
      "           3       1.00      1.00      1.00        37\n",
      "           4       1.00      1.00      1.00        39\n",
      "           5       1.00      1.00      1.00        30\n",
      "           6       1.00      1.00      1.00        35\n",
      "           7       1.00      0.98      0.99        44\n",
      "           8       0.97      0.97      0.97        36\n",
      "           9       0.97      0.97      0.97        35\n",
      "\n",
      "    accuracy                           0.99       360\n",
      "   macro avg       0.99      0.99      0.99       360\n",
      "weighted avg       0.99      0.99      0.99       360\n",
      "\n"
     ]
    }
   ],
   "source": [
    "# SVM 사용해 보기\n",
    "\n",
    "from sklearn import svm\n",
    "\n",
    "svm_model = svm.SVC()\n",
    "print(svm_model._estimator_type)\n",
    "\n",
    "svm_model.fit(X_train, y_train)\n",
    "svm_y_pred = svm_model.predict(X_test)\n",
    "\n",
    "print(classification_report(y_test, svm_y_pred))"
   ]
  },
  {
   "cell_type": "code",
   "execution_count": 11,
   "id": "modular-treasurer",
   "metadata": {},
   "outputs": [
    {
     "name": "stdout",
     "output_type": "stream",
     "text": [
      "              precision    recall  f1-score   support\n",
      "\n",
      "           0       1.00      1.00      1.00        35\n",
      "           1       0.79      0.91      0.85        34\n",
      "           2       1.00      0.94      0.97        35\n",
      "           3       0.88      1.00      0.94        37\n",
      "           4       0.97      0.97      0.97        39\n",
      "           5       1.00      0.90      0.95        30\n",
      "           6       1.00      1.00      1.00        35\n",
      "           7       0.95      0.93      0.94        44\n",
      "           8       1.00      0.83      0.91        36\n",
      "           9       0.89      0.94      0.92        35\n",
      "\n",
      "    accuracy                           0.94       360\n",
      "   macro avg       0.95      0.94      0.94       360\n",
      "weighted avg       0.95      0.94      0.95       360\n",
      "\n"
     ]
    }
   ],
   "source": [
    "# SGD Classifier 사용해 보기\n",
    "\n",
    "from sklearn.linear_model import SGDClassifier\n",
    "\n",
    "sgd_model = SGDClassifier()\n",
    "sgd_model.fit(X_train, y_train)\n",
    "sgd_y_pred = sgd_model.predict(X_test)\n",
    "\n",
    "print(classification_report(y_test, sgd_y_pred))"
   ]
  },
  {
   "cell_type": "code",
   "execution_count": 12,
   "id": "underlying-monday",
   "metadata": {},
   "outputs": [
    {
     "name": "stdout",
     "output_type": "stream",
     "text": [
      "              precision    recall  f1-score   support\n",
      "\n",
      "           0       1.00      0.94      0.97        35\n",
      "           1       0.87      0.97      0.92        34\n",
      "           2       0.97      0.94      0.96        35\n",
      "           3       1.00      0.97      0.99        37\n",
      "           4       0.95      0.95      0.95        39\n",
      "           5       0.88      0.97      0.92        30\n",
      "           6       1.00      1.00      1.00        35\n",
      "           7       0.98      0.93      0.95        44\n",
      "           8       0.91      0.89      0.90        36\n",
      "           9       0.97      0.97      0.97        35\n",
      "\n",
      "    accuracy                           0.95       360\n",
      "   macro avg       0.95      0.95      0.95       360\n",
      "weighted avg       0.95      0.95      0.95       360\n",
      "\n"
     ]
    },
    {
     "name": "stderr",
     "output_type": "stream",
     "text": [
      "/opt/conda/lib/python3.7/site-packages/sklearn/linear_model/_logistic.py:762: ConvergenceWarning: lbfgs failed to converge (status=1):\n",
      "STOP: TOTAL NO. of ITERATIONS REACHED LIMIT.\n",
      "\n",
      "Increase the number of iterations (max_iter) or scale the data as shown in:\n",
      "    https://scikit-learn.org/stable/modules/preprocessing.html\n",
      "Please also refer to the documentation for alternative solver options:\n",
      "    https://scikit-learn.org/stable/modules/linear_model.html#logistic-regression\n",
      "  extra_warning_msg=_LOGISTIC_SOLVER_CONVERGENCE_MSG)\n"
     ]
    }
   ],
   "source": [
    "# Logistic Regression 사용해 보기\n",
    "\n",
    "from sklearn.linear_model import LogisticRegression\n",
    "\n",
    "logistic_model = LogisticRegression() \n",
    "logistic_model.fit(X_train, y_train)\n",
    "logistic_model_y_pred = logistic_model.predict(X_test)\n",
    "\n",
    "print(classification_report(y_test, logistic_model_y_pred))"
   ]
  },
  {
   "cell_type": "markdown",
   "id": "fluid-stake",
   "metadata": {},
   "source": [
    "### <모델 평가하기>"
   ]
  },
  {
   "cell_type": "markdown",
   "id": "explicit-outdoors",
   "metadata": {},
   "source": [
    "1. load_digits() 데이터는 손글씨를 얼만큼 정확하게 인식은 잘했는지가 중요한 관건이다.\n",
    "  - 손글씨로 쓴 숫자를 정확한 숫자로 인식한 결과값만이 의미가 있기 때문에 recall(재현율) = TP / TP + FN의 값을 비교하여 좋은 모델을 선택할 것이다.      \n",
    "     \n",
    "     \n",
    "2. 아래와 같이 sklearn.metrics에서 제공하는 recall_score 평가지표를 사용했다."
   ]
  },
  {
   "cell_type": "code",
   "execution_count": 14,
   "id": "polyphonic-stupid",
   "metadata": {},
   "outputs": [
    {
     "name": "stdout",
     "output_type": "stream",
     "text": [
      "Decision Tree : 0.8222222222222222\n",
      "Random Forest : 0.9777777777777777\n",
      "SVM : 0.9916666666666667\n",
      "SGD : 0.9444444444444444\n",
      "Logistic Regression : 0.9527777777777777\n"
     ]
    }
   ],
   "source": [
    "from sklearn.metrics import recall_score\n",
    "\n",
    "print('Decision Tree : {}'.format(recall_score(y_test, decision_tree_y_pred, average = 'weighted')))\n",
    "print('Random Forest : {}'.format(recall_score(y_test, random_forest_y_pred, average = 'weighted')))\n",
    "print('SVM : {}'.format(recall_score(y_test, svm_y_pred, average = 'weighted')))\n",
    "print('SGD : {}'.format(recall_score(y_test, sgd_y_pred, average = 'weighted')))\n",
    "print('Logistic Regression : {}'.format(recall_score(y_test, logistic_model_y_pred, average = 'weighted')))"
   ]
  },
  {
   "cell_type": "markdown",
   "id": "nearby-burning",
   "metadata": {},
   "source": [
    "### <load_digits 데이터의 recall_score 결과>\n",
    "\n",
    "1. 위의 recall_score의 결과에서 볼 수 있듯이 SVM 모델이 0.991로 가장 score가 높기 때문에 load_digits의 데이터 예측을 가장 잘하는 모델로 선택할 수 있다.   "
   ]
  },
  {
   "cell_type": "markdown",
   "id": "ambient-rabbit",
   "metadata": {},
   "source": [
    "# 프로젝트 1-(2) load_wine 와인을 분류해 봅시다."
   ]
  },
  {
   "cell_type": "code",
   "execution_count": 15,
   "id": "dated-alcohol",
   "metadata": {},
   "outputs": [],
   "source": [
    "# 필요한 모듈 import 하기\n",
    "\n",
    "from sklearn.datasets import load_wine\n",
    "from sklearn.model_selection import train_test_split\n",
    "from sklearn.metrics import classification_report\n"
   ]
  },
  {
   "cell_type": "code",
   "execution_count": 16,
   "id": "honey-collins",
   "metadata": {},
   "outputs": [
    {
     "data": {
      "text/plain": [
       "sklearn.utils.Bunch"
      ]
     },
     "execution_count": 16,
     "metadata": {},
     "output_type": "execute_result"
    }
   ],
   "source": [
    "# 데이터 준비\n",
    "\n",
    "wine = load_wine()\n",
    "type(wine)"
   ]
  },
  {
   "cell_type": "code",
   "execution_count": 17,
   "id": "stable-glucose",
   "metadata": {},
   "outputs": [
    {
     "name": "stdout",
     "output_type": "stream",
     "text": [
      "(178, 13)\n",
      "2\n"
     ]
    },
    {
     "data": {
      "text/plain": [
       "array([1.423e+01, 1.710e+00, 2.430e+00, 1.560e+01, 1.270e+02, 2.800e+00,\n",
       "       3.060e+00, 2.800e-01, 2.290e+00, 5.640e+00, 1.040e+00, 3.920e+00,\n",
       "       1.065e+03])"
      ]
     },
     "execution_count": 17,
     "metadata": {},
     "output_type": "execute_result"
    }
   ],
   "source": [
    "# 데이터 이해하기\n",
    "\n",
    "# Feature Data 지정하기\n",
    "\n",
    "wine_data = wine.data\n",
    "print(wine_data.shape)\n",
    "print(wine_data.ndim)   # .ndim은 feature data가 몇 차원으로 이루어져 있는지 알 수 있음\n",
    "wine_data[0]"
   ]
  },
  {
   "cell_type": "code",
   "execution_count": 18,
   "id": "amber-delight",
   "metadata": {},
   "outputs": [
    {
     "name": "stdout",
     "output_type": "stream",
     "text": [
      "(178,)\n"
     ]
    },
    {
     "data": {
      "text/plain": [
       "array([0, 0, 0, 0, 0, 0, 0, 0, 0, 0])"
      ]
     },
     "execution_count": 18,
     "metadata": {},
     "output_type": "execute_result"
    }
   ],
   "source": [
    "# Label Data 지정하기\n",
    "\n",
    "wine_target = wine.target\n",
    "print(wine_target.shape)\n",
    "wine_target[:10]"
   ]
  },
  {
   "cell_type": "code",
   "execution_count": 19,
   "id": "streaming-canvas",
   "metadata": {},
   "outputs": [
    {
     "data": {
      "text/plain": [
       "dict_keys(['data', 'target', 'frame', 'target_names', 'DESCR', 'feature_names'])"
      ]
     },
     "execution_count": 19,
     "metadata": {},
     "output_type": "execute_result"
    }
   ],
   "source": [
    "wine.keys()"
   ]
  },
  {
   "cell_type": "code",
   "execution_count": 20,
   "id": "objective-session",
   "metadata": {},
   "outputs": [
    {
     "name": "stdout",
     "output_type": "stream",
     "text": [
      "['class_0' 'class_1' 'class_2']\n"
     ]
    }
   ],
   "source": [
    "# Target Names 출력해 보기\n",
    "\n",
    "print(wine.target_names)"
   ]
  },
  {
   "cell_type": "code",
   "execution_count": 21,
   "id": "ideal-device",
   "metadata": {},
   "outputs": [
    {
     "name": "stdout",
     "output_type": "stream",
     "text": [
      ".. _wine_dataset:\n",
      "\n",
      "Wine recognition dataset\n",
      "------------------------\n",
      "\n",
      "**Data Set Characteristics:**\n",
      "\n",
      "    :Number of Instances: 178 (50 in each of three classes)\n",
      "    :Number of Attributes: 13 numeric, predictive attributes and the class\n",
      "    :Attribute Information:\n",
      " \t\t- Alcohol\n",
      " \t\t- Malic acid\n",
      " \t\t- Ash\n",
      "\t\t- Alcalinity of ash  \n",
      " \t\t- Magnesium\n",
      "\t\t- Total phenols\n",
      " \t\t- Flavanoids\n",
      " \t\t- Nonflavanoid phenols\n",
      " \t\t- Proanthocyanins\n",
      "\t\t- Color intensity\n",
      " \t\t- Hue\n",
      " \t\t- OD280/OD315 of diluted wines\n",
      " \t\t- Proline\n",
      "\n",
      "    - class:\n",
      "            - class_0\n",
      "            - class_1\n",
      "            - class_2\n",
      "\t\t\n",
      "    :Summary Statistics:\n",
      "    \n",
      "    ============================= ==== ===== ======= =====\n",
      "                                   Min   Max   Mean     SD\n",
      "    ============================= ==== ===== ======= =====\n",
      "    Alcohol:                      11.0  14.8    13.0   0.8\n",
      "    Malic Acid:                   0.74  5.80    2.34  1.12\n",
      "    Ash:                          1.36  3.23    2.36  0.27\n",
      "    Alcalinity of Ash:            10.6  30.0    19.5   3.3\n",
      "    Magnesium:                    70.0 162.0    99.7  14.3\n",
      "    Total Phenols:                0.98  3.88    2.29  0.63\n",
      "    Flavanoids:                   0.34  5.08    2.03  1.00\n",
      "    Nonflavanoid Phenols:         0.13  0.66    0.36  0.12\n",
      "    Proanthocyanins:              0.41  3.58    1.59  0.57\n",
      "    Colour Intensity:              1.3  13.0     5.1   2.3\n",
      "    Hue:                          0.48  1.71    0.96  0.23\n",
      "    OD280/OD315 of diluted wines: 1.27  4.00    2.61  0.71\n",
      "    Proline:                       278  1680     746   315\n",
      "    ============================= ==== ===== ======= =====\n",
      "\n",
      "    :Missing Attribute Values: None\n",
      "    :Class Distribution: class_0 (59), class_1 (71), class_2 (48)\n",
      "    :Creator: R.A. Fisher\n",
      "    :Donor: Michael Marshall (MARSHALL%PLU@io.arc.nasa.gov)\n",
      "    :Date: July, 1988\n",
      "\n",
      "This is a copy of UCI ML Wine recognition datasets.\n",
      "https://archive.ics.uci.edu/ml/machine-learning-databases/wine/wine.data\n",
      "\n",
      "The data is the results of a chemical analysis of wines grown in the same\n",
      "region in Italy by three different cultivators. There are thirteen different\n",
      "measurements taken for different constituents found in the three types of\n",
      "wine.\n",
      "\n",
      "Original Owners: \n",
      "\n",
      "Forina, M. et al, PARVUS - \n",
      "An Extendible Package for Data Exploration, Classification and Correlation. \n",
      "Institute of Pharmaceutical and Food Analysis and Technologies,\n",
      "Via Brigata Salerno, 16147 Genoa, Italy.\n",
      "\n",
      "Citation:\n",
      "\n",
      "Lichman, M. (2013). UCI Machine Learning Repository\n",
      "[https://archive.ics.uci.edu/ml]. Irvine, CA: University of California,\n",
      "School of Information and Computer Science. \n",
      "\n",
      ".. topic:: References\n",
      "\n",
      "  (1) S. Aeberhard, D. Coomans and O. de Vel, \n",
      "  Comparison of Classifiers in High Dimensional Settings, \n",
      "  Tech. Rep. no. 92-02, (1992), Dept. of Computer Science and Dept. of  \n",
      "  Mathematics and Statistics, James Cook University of North Queensland. \n",
      "  (Also submitted to Technometrics). \n",
      "\n",
      "  The data was used with many others for comparing various \n",
      "  classifiers. The classes are separable, though only RDA \n",
      "  has achieved 100% correct classification. \n",
      "  (RDA : 100%, QDA 99.4%, LDA 98.9%, 1NN 96.1% (z-transformed data)) \n",
      "  (All results using the leave-one-out technique) \n",
      "\n",
      "  (2) S. Aeberhard, D. Coomans and O. de Vel, \n",
      "  \"THE CLASSIFICATION PERFORMANCE OF RDA\" \n",
      "  Tech. Rep. no. 92-01, (1992), Dept. of Computer Science and Dept. of \n",
      "  Mathematics and Statistics, James Cook University of North Queensland. \n",
      "  (Also submitted to Journal of Chemometrics).\n",
      "\n"
     ]
    }
   ],
   "source": [
    "# 데이터 Describe 해보기\n",
    "\n",
    "print(wine.DESCR)"
   ]
  },
  {
   "cell_type": "code",
   "execution_count": 22,
   "id": "cooperative-throat",
   "metadata": {},
   "outputs": [],
   "source": [
    "# train, test 데이터 분리하기\n",
    "\n",
    "X_train, X_test, y_train, y_test = train_test_split(wine_data,\n",
    "                                                    wine_target,\n",
    "                                                    test_size = 0.2,\n",
    "                                                    random_state = 321)"
   ]
  },
  {
   "cell_type": "markdown",
   "id": "fossil-examination",
   "metadata": {},
   "source": [
    "### < 다양한 모델로 학습시켜보기 >"
   ]
  },
  {
   "cell_type": "code",
   "execution_count": 28,
   "id": "attended-drawing",
   "metadata": {},
   "outputs": [
    {
     "name": "stdout",
     "output_type": "stream",
     "text": [
      "              precision    recall  f1-score   support\n",
      "\n",
      "           0       0.82      0.82      0.82        11\n",
      "           1       0.89      0.89      0.89        19\n",
      "           2       1.00      1.00      1.00         6\n",
      "\n",
      "    accuracy                           0.89        36\n",
      "   macro avg       0.90      0.90      0.90        36\n",
      "weighted avg       0.89      0.89      0.89        36\n",
      "\n"
     ]
    }
   ],
   "source": [
    "# Decision Tree 사용해 보기\n",
    "\n",
    "from sklearn.tree import DecisionTreeClassifier\n",
    "\n",
    "decision_tree = DecisionTreeClassifier()\n",
    "decision_tree.fit(X_train, y_train)\n",
    "decision_tree_y_pred = decision_tree.predict(X_test)\n",
    "\n",
    "print(classification_report(y_test, decision_tree_y_pred))"
   ]
  },
  {
   "cell_type": "code",
   "execution_count": 29,
   "id": "unable-compensation",
   "metadata": {},
   "outputs": [
    {
     "name": "stdout",
     "output_type": "stream",
     "text": [
      "              precision    recall  f1-score   support\n",
      "\n",
      "           0       1.00      1.00      1.00        11\n",
      "           1       1.00      1.00      1.00        19\n",
      "           2       1.00      1.00      1.00         6\n",
      "\n",
      "    accuracy                           1.00        36\n",
      "   macro avg       1.00      1.00      1.00        36\n",
      "weighted avg       1.00      1.00      1.00        36\n",
      "\n"
     ]
    }
   ],
   "source": [
    "# Random Forest 사용해 보기\n",
    "\n",
    "from sklearn.ensemble import RandomForestClassifier\n",
    "\n",
    "random_forest = RandomForestClassifier()\n",
    "random_forest.fit(X_train, y_train)\n",
    "random_forest_y_pred = random_forest.predict(X_test)\n",
    "\n",
    "print(classification_report(y_test, random_forest_y_pred))"
   ]
  },
  {
   "cell_type": "code",
   "execution_count": 30,
   "id": "alien-anxiety",
   "metadata": {},
   "outputs": [
    {
     "name": "stdout",
     "output_type": "stream",
     "text": [
      "classifier\n",
      "              precision    recall  f1-score   support\n",
      "\n",
      "           0       0.90      0.82      0.86        11\n",
      "           1       0.86      0.63      0.73        19\n",
      "           2       0.33      0.67      0.44         6\n",
      "\n",
      "    accuracy                           0.69        36\n",
      "   macro avg       0.70      0.71      0.68        36\n",
      "weighted avg       0.78      0.69      0.72        36\n",
      "\n"
     ]
    }
   ],
   "source": [
    "# SVM 사용해 보기\n",
    "\n",
    "from sklearn import svm\n",
    "\n",
    "svm_model = svm.SVC()\n",
    "print(svm_model._estimator_type)\n",
    "svm_model.fit(X_train, y_train)\n",
    "svm_y_pred = svm_model.predict(X_test)\n",
    "\n",
    "print(classification_report(y_test, svm_y_pred))"
   ]
  },
  {
   "cell_type": "code",
   "execution_count": 31,
   "id": "oriented-pattern",
   "metadata": {},
   "outputs": [
    {
     "name": "stdout",
     "output_type": "stream",
     "text": [
      "classifier\n",
      "              precision    recall  f1-score   support\n",
      "\n",
      "           0       0.59      0.91      0.71        11\n",
      "           1       0.74      0.74      0.74        19\n",
      "           2       0.00      0.00      0.00         6\n",
      "\n",
      "    accuracy                           0.67        36\n",
      "   macro avg       0.44      0.55      0.48        36\n",
      "weighted avg       0.57      0.67      0.61        36\n",
      "\n"
     ]
    },
    {
     "name": "stderr",
     "output_type": "stream",
     "text": [
      "/opt/conda/lib/python3.7/site-packages/sklearn/metrics/_classification.py:1221: UndefinedMetricWarning: Precision and F-score are ill-defined and being set to 0.0 in labels with no predicted samples. Use `zero_division` parameter to control this behavior.\n",
      "  _warn_prf(average, modifier, msg_start, len(result))\n"
     ]
    }
   ],
   "source": [
    "# SGD Classifier 사용해 보기\n",
    "\n",
    "from sklearn.linear_model import SGDClassifier\n",
    "\n",
    "sgd_model = SGDClassifier()\n",
    "print(sgd_model._estimator_type)\n",
    "sgd_model.fit(X_train, y_train)\n",
    "sgd_y_pred = sgd_model.predict(X_test)\n",
    "\n",
    "print(classification_report(y_test, sgd_y_pred))"
   ]
  },
  {
   "cell_type": "code",
   "execution_count": 32,
   "id": "settled-standing",
   "metadata": {},
   "outputs": [
    {
     "name": "stdout",
     "output_type": "stream",
     "text": [
      "              precision    recall  f1-score   support\n",
      "\n",
      "           0       1.00      0.91      0.95        11\n",
      "           1       0.95      1.00      0.97        19\n",
      "           2       1.00      1.00      1.00         6\n",
      "\n",
      "    accuracy                           0.97        36\n",
      "   macro avg       0.98      0.97      0.98        36\n",
      "weighted avg       0.97      0.97      0.97        36\n",
      "\n"
     ]
    }
   ],
   "source": [
    "# Logistic Regression 사용해 보기\n",
    "\n",
    "from sklearn.linear_model import LogisticRegression\n",
    "\n",
    "logistic_model = LogisticRegression(max_iter=5000)  # 반복횟수의 max를 크게하지 않으면 경고 창이 뜨기 때문에 구글링을 하여 max_iter 기본값인 100보다 크게 설정하였음.\n",
    "logistic_model.fit(X_train, y_train)\n",
    "logistic_model_y_pred = logistic_model.predict(X_test)\n",
    "\n",
    "print(classification_report(y_test, logistic_model_y_pred))"
   ]
  },
  {
   "cell_type": "markdown",
   "id": "golden-military",
   "metadata": {},
   "source": [
    "### <모델 평가하기>"
   ]
  },
  {
   "cell_type": "markdown",
   "id": "trained-personality",
   "metadata": {},
   "source": [
    "1. load_wine 데이터도 load_digits데이터와 마찬가지로 와인 특성에 따라 정확하게 와인 종류로 분류한 값만이 의미가 있다고 생각하기 때문에 recall(재현율) score로 결과를 알아볼 것이다.    "
   ]
  },
  {
   "cell_type": "code",
   "execution_count": 33,
   "id": "prompt-export",
   "metadata": {},
   "outputs": [
    {
     "name": "stdout",
     "output_type": "stream",
     "text": [
      "Decision Tree : 0.8888888888888888\n",
      "Random Forest : 1.0\n",
      "SVM : 0.6944444444444444\n",
      "SGD : 0.6666666666666666\n",
      "Logistic Regression : 0.9722222222222222\n"
     ]
    }
   ],
   "source": [
    "# sklear.metrics의 recall_score로 결과 비교하기\n",
    "\n",
    "from sklearn.metrics import recall_score\n",
    "\n",
    "print('Decision Tree : {}'.format(recall_score(y_test, decision_tree_y_pred, average = 'weighted')))\n",
    "print('Random Forest : {}'.format(recall_score(y_test, random_forest_y_pred, average = 'weighted')))\n",
    "print('SVM : {}'.format(recall_score(y_test, svm_y_pred, average = 'weighted')))\n",
    "print('SGD : {}'.format(recall_score(y_test, sgd_y_pred, average = 'weighted')))\n",
    "print('Logistic Regression : {}'.format(recall_score(y_test, logistic_model_y_pred, average = 'weighted')))"
   ]
  },
  {
   "cell_type": "markdown",
   "id": "intended-ceiling",
   "metadata": {},
   "source": [
    "### < load_wine데이터의 recall_score 결과>\n",
    "\n",
    "1. load_wine 데이터는 여러가지 와인 특성에 따라 종류로 분류되기 때문에 의사결정트리인 Decision Tree나 의사결정트리를 여러 개 모아놓은 Random Forest가 좋은 모델이 될 수 있을거라고 예상했는데 recall_score를 보니 역시나 Random Forest가 1.0이라는 결과가 나왔다. "
   ]
  },
  {
   "cell_type": "markdown",
   "id": "union-reset",
   "metadata": {},
   "source": [
    "#  프로젝트 1-(3) load_breast_cancer 유방암 여부를 진단해 봅시다."
   ]
  },
  {
   "cell_type": "code",
   "execution_count": 34,
   "id": "dress-calendar",
   "metadata": {},
   "outputs": [],
   "source": [
    "# 필요한 모듈 import 하기\n",
    "\n",
    "from sklearn.datasets import load_breast_cancer\n",
    "from sklearn.model_selection import train_test_split\n",
    "from sklearn.metrics import classification_report\n"
   ]
  },
  {
   "cell_type": "code",
   "execution_count": 35,
   "id": "isolated-lloyd",
   "metadata": {},
   "outputs": [
    {
     "data": {
      "text/plain": [
       "dict_keys(['data', 'target', 'frame', 'target_names', 'DESCR', 'feature_names', 'filename'])"
      ]
     },
     "execution_count": 35,
     "metadata": {},
     "output_type": "execute_result"
    }
   ],
   "source": [
    "# 데이터 준비\n",
    "\n",
    "cancer = load_breast_cancer()\n",
    "type(cancer)\n",
    "cancer.keys()"
   ]
  },
  {
   "cell_type": "code",
   "execution_count": 36,
   "id": "sorted-garage",
   "metadata": {},
   "outputs": [
    {
     "name": "stdout",
     "output_type": "stream",
     "text": [
      "(569, 30)\n"
     ]
    },
    {
     "data": {
      "text/plain": [
       "array([1.799e+01, 1.038e+01, 1.228e+02, 1.001e+03, 1.184e-01, 2.776e-01,\n",
       "       3.001e-01, 1.471e-01, 2.419e-01, 7.871e-02, 1.095e+00, 9.053e-01,\n",
       "       8.589e+00, 1.534e+02, 6.399e-03, 4.904e-02, 5.373e-02, 1.587e-02,\n",
       "       3.003e-02, 6.193e-03, 2.538e+01, 1.733e+01, 1.846e+02, 2.019e+03,\n",
       "       1.622e-01, 6.656e-01, 7.119e-01, 2.654e-01, 4.601e-01, 1.189e-01])"
      ]
     },
     "execution_count": 36,
     "metadata": {},
     "output_type": "execute_result"
    }
   ],
   "source": [
    "# 데이터 이해하기\n",
    "\n",
    "# Feature Data 지정하기\n",
    "\n",
    "cancer_data = cancer.data\n",
    "print(cancer_data.shape)\n",
    "cancer_data[0]"
   ]
  },
  {
   "cell_type": "code",
   "execution_count": 37,
   "id": "distinct-lemon",
   "metadata": {},
   "outputs": [
    {
     "name": "stdout",
     "output_type": "stream",
     "text": [
      "(569,)\n"
     ]
    },
    {
     "data": {
      "text/plain": [
       "array([0, 0, 0, 0, 0, 0, 0, 0, 0, 0])"
      ]
     },
     "execution_count": 37,
     "metadata": {},
     "output_type": "execute_result"
    }
   ],
   "source": [
    "# Label(=Target) Data 지정하기\n",
    "\n",
    "cancer_target = cancer.target\n",
    "print(cancer_target.shape)\n",
    "cancer_target[ : 10]"
   ]
  },
  {
   "cell_type": "code",
   "execution_count": 38,
   "id": "advisory-incidence",
   "metadata": {},
   "outputs": [
    {
     "name": "stdout",
     "output_type": "stream",
     "text": [
      "['malignant' 'benign']\n"
     ]
    }
   ],
   "source": [
    "# Target Names 출력해 보기\n",
    "\n",
    "print(cancer.target_names)"
   ]
  },
  {
   "cell_type": "code",
   "execution_count": 39,
   "id": "uniform-combine",
   "metadata": {},
   "outputs": [
    {
     "name": "stdout",
     "output_type": "stream",
     "text": [
      ".. _breast_cancer_dataset:\n",
      "\n",
      "Breast cancer wisconsin (diagnostic) dataset\n",
      "--------------------------------------------\n",
      "\n",
      "**Data Set Characteristics:**\n",
      "\n",
      "    :Number of Instances: 569\n",
      "\n",
      "    :Number of Attributes: 30 numeric, predictive attributes and the class\n",
      "\n",
      "    :Attribute Information:\n",
      "        - radius (mean of distances from center to points on the perimeter)\n",
      "        - texture (standard deviation of gray-scale values)\n",
      "        - perimeter\n",
      "        - area\n",
      "        - smoothness (local variation in radius lengths)\n",
      "        - compactness (perimeter^2 / area - 1.0)\n",
      "        - concavity (severity of concave portions of the contour)\n",
      "        - concave points (number of concave portions of the contour)\n",
      "        - symmetry\n",
      "        - fractal dimension (\"coastline approximation\" - 1)\n",
      "\n",
      "        The mean, standard error, and \"worst\" or largest (mean of the three\n",
      "        worst/largest values) of these features were computed for each image,\n",
      "        resulting in 30 features.  For instance, field 0 is Mean Radius, field\n",
      "        10 is Radius SE, field 20 is Worst Radius.\n",
      "\n",
      "        - class:\n",
      "                - WDBC-Malignant\n",
      "                - WDBC-Benign\n",
      "\n",
      "    :Summary Statistics:\n",
      "\n",
      "    ===================================== ====== ======\n",
      "                                           Min    Max\n",
      "    ===================================== ====== ======\n",
      "    radius (mean):                        6.981  28.11\n",
      "    texture (mean):                       9.71   39.28\n",
      "    perimeter (mean):                     43.79  188.5\n",
      "    area (mean):                          143.5  2501.0\n",
      "    smoothness (mean):                    0.053  0.163\n",
      "    compactness (mean):                   0.019  0.345\n",
      "    concavity (mean):                     0.0    0.427\n",
      "    concave points (mean):                0.0    0.201\n",
      "    symmetry (mean):                      0.106  0.304\n",
      "    fractal dimension (mean):             0.05   0.097\n",
      "    radius (standard error):              0.112  2.873\n",
      "    texture (standard error):             0.36   4.885\n",
      "    perimeter (standard error):           0.757  21.98\n",
      "    area (standard error):                6.802  542.2\n",
      "    smoothness (standard error):          0.002  0.031\n",
      "    compactness (standard error):         0.002  0.135\n",
      "    concavity (standard error):           0.0    0.396\n",
      "    concave points (standard error):      0.0    0.053\n",
      "    symmetry (standard error):            0.008  0.079\n",
      "    fractal dimension (standard error):   0.001  0.03\n",
      "    radius (worst):                       7.93   36.04\n",
      "    texture (worst):                      12.02  49.54\n",
      "    perimeter (worst):                    50.41  251.2\n",
      "    area (worst):                         185.2  4254.0\n",
      "    smoothness (worst):                   0.071  0.223\n",
      "    compactness (worst):                  0.027  1.058\n",
      "    concavity (worst):                    0.0    1.252\n",
      "    concave points (worst):               0.0    0.291\n",
      "    symmetry (worst):                     0.156  0.664\n",
      "    fractal dimension (worst):            0.055  0.208\n",
      "    ===================================== ====== ======\n",
      "\n",
      "    :Missing Attribute Values: None\n",
      "\n",
      "    :Class Distribution: 212 - Malignant, 357 - Benign\n",
      "\n",
      "    :Creator:  Dr. William H. Wolberg, W. Nick Street, Olvi L. Mangasarian\n",
      "\n",
      "    :Donor: Nick Street\n",
      "\n",
      "    :Date: November, 1995\n",
      "\n",
      "This is a copy of UCI ML Breast Cancer Wisconsin (Diagnostic) datasets.\n",
      "https://goo.gl/U2Uwz2\n",
      "\n",
      "Features are computed from a digitized image of a fine needle\n",
      "aspirate (FNA) of a breast mass.  They describe\n",
      "characteristics of the cell nuclei present in the image.\n",
      "\n",
      "Separating plane described above was obtained using\n",
      "Multisurface Method-Tree (MSM-T) [K. P. Bennett, \"Decision Tree\n",
      "Construction Via Linear Programming.\" Proceedings of the 4th\n",
      "Midwest Artificial Intelligence and Cognitive Science Society,\n",
      "pp. 97-101, 1992], a classification method which uses linear\n",
      "programming to construct a decision tree.  Relevant features\n",
      "were selected using an exhaustive search in the space of 1-4\n",
      "features and 1-3 separating planes.\n",
      "\n",
      "The actual linear program used to obtain the separating plane\n",
      "in the 3-dimensional space is that described in:\n",
      "[K. P. Bennett and O. L. Mangasarian: \"Robust Linear\n",
      "Programming Discrimination of Two Linearly Inseparable Sets\",\n",
      "Optimization Methods and Software 1, 1992, 23-34].\n",
      "\n",
      "This database is also available through the UW CS ftp server:\n",
      "\n",
      "ftp ftp.cs.wisc.edu\n",
      "cd math-prog/cpo-dataset/machine-learn/WDBC/\n",
      "\n",
      ".. topic:: References\n",
      "\n",
      "   - W.N. Street, W.H. Wolberg and O.L. Mangasarian. Nuclear feature extraction \n",
      "     for breast tumor diagnosis. IS&T/SPIE 1993 International Symposium on \n",
      "     Electronic Imaging: Science and Technology, volume 1905, pages 861-870,\n",
      "     San Jose, CA, 1993.\n",
      "   - O.L. Mangasarian, W.N. Street and W.H. Wolberg. Breast cancer diagnosis and \n",
      "     prognosis via linear programming. Operations Research, 43(4), pages 570-577, \n",
      "     July-August 1995.\n",
      "   - W.H. Wolberg, W.N. Street, and O.L. Mangasarian. Machine learning techniques\n",
      "     to diagnose breast cancer from fine-needle aspirates. Cancer Letters 77 (1994) \n",
      "     163-171.\n"
     ]
    }
   ],
   "source": [
    "# 데이터 Desceribe 해 보기\n",
    "\n",
    "print(cancer.DESCR)"
   ]
  },
  {
   "cell_type": "code",
   "execution_count": 47,
   "id": "adjusted-adaptation",
   "metadata": {},
   "outputs": [],
   "source": [
    "# train, test 데이터 분리\n",
    "\n",
    "X_train, X_test, y_train, y_test = train_test_split(cancer_data,\n",
    "                                                    cancer_target,\n",
    "                                                    test_size = 0.2,\n",
    "                                                    random_state = 321)\n"
   ]
  },
  {
   "cell_type": "markdown",
   "id": "saved-stroke",
   "metadata": {},
   "source": [
    "### < 다양한 모델로 학습시켜보기>"
   ]
  },
  {
   "cell_type": "code",
   "execution_count": 48,
   "id": "centered-formation",
   "metadata": {},
   "outputs": [
    {
     "name": "stdout",
     "output_type": "stream",
     "text": [
      "              precision    recall  f1-score   support\n",
      "\n",
      "           0       0.87      0.96      0.91        49\n",
      "           1       0.97      0.89      0.93        65\n",
      "\n",
      "    accuracy                           0.92       114\n",
      "   macro avg       0.92      0.93      0.92       114\n",
      "weighted avg       0.93      0.92      0.92       114\n",
      "\n"
     ]
    }
   ],
   "source": [
    "# Decision Tree 사용해보기\n",
    "\n",
    "from sklearn.tree import DecisionTreeClassifier\n",
    "\n",
    "decision_tree = DecisionTreeClassifier()\n",
    "decision_tree.fit(X_train, y_train)\n",
    "decision_tree_y_pred = decision_tree.predict(X_test)\n",
    "\n",
    "print(classification_report(y_test, decision_tree_y_pred))"
   ]
  },
  {
   "cell_type": "code",
   "execution_count": 49,
   "id": "growing-jumping",
   "metadata": {},
   "outputs": [
    {
     "name": "stdout",
     "output_type": "stream",
     "text": [
      "              precision    recall  f1-score   support\n",
      "\n",
      "           0       0.96      0.94      0.95        49\n",
      "           1       0.95      0.97      0.96        65\n",
      "\n",
      "    accuracy                           0.96       114\n",
      "   macro avg       0.96      0.95      0.96       114\n",
      "weighted avg       0.96      0.96      0.96       114\n",
      "\n"
     ]
    }
   ],
   "source": [
    "# Random Forest 사용해 보기\n",
    "\n",
    "from sklearn.ensemble import RandomForestClassifier\n",
    "\n",
    "random_forest = RandomForestClassifier()\n",
    "random_forest.fit(X_train, y_train)\n",
    "random_forest_y_pred = random_forest.predict(X_test)\n",
    "\n",
    "print(classification_report(y_test, random_forest_y_pred))"
   ]
  },
  {
   "cell_type": "code",
   "execution_count": 50,
   "id": "tropical-dressing",
   "metadata": {},
   "outputs": [
    {
     "name": "stdout",
     "output_type": "stream",
     "text": [
      "              precision    recall  f1-score   support\n",
      "\n",
      "           0       0.95      0.80      0.87        49\n",
      "           1       0.86      0.97      0.91        65\n",
      "\n",
      "    accuracy                           0.89       114\n",
      "   macro avg       0.91      0.88      0.89       114\n",
      "weighted avg       0.90      0.89      0.89       114\n",
      "\n"
     ]
    }
   ],
   "source": [
    "# SVM 사용해 보기\n",
    "\n",
    "from sklearn import svm\n",
    "\n",
    "svm_model = svm.SVC()\n",
    "svm_model.fit(X_train, y_train)\n",
    "svm_y_pred = svm_model.predict(X_test)\n",
    "\n",
    "print(classification_report(y_test, svm_y_pred))"
   ]
  },
  {
   "cell_type": "code",
   "execution_count": 51,
   "id": "brief-former",
   "metadata": {},
   "outputs": [
    {
     "name": "stdout",
     "output_type": "stream",
     "text": [
      "              precision    recall  f1-score   support\n",
      "\n",
      "           0       1.00      0.84      0.91        49\n",
      "           1       0.89      1.00      0.94        65\n",
      "\n",
      "    accuracy                           0.93       114\n",
      "   macro avg       0.95      0.92      0.93       114\n",
      "weighted avg       0.94      0.93      0.93       114\n",
      "\n"
     ]
    }
   ],
   "source": [
    "# SGD Classifier 사용해 보기\n",
    "\n",
    "from sklearn.linear_model import SGDClassifier\n",
    "\n",
    "sgd_model = SGDClassifier()\n",
    "sgd_model.fit(X_train, y_train)\n",
    "sgd_y_pred = sgd_model.predict(X_test)\n",
    "\n",
    "print(classification_report(y_test, sgd_y_pred))"
   ]
  },
  {
   "cell_type": "code",
   "execution_count": 53,
   "id": "hearing-danger",
   "metadata": {},
   "outputs": [
    {
     "name": "stdout",
     "output_type": "stream",
     "text": [
      "              precision    recall  f1-score   support\n",
      "\n",
      "           0       0.93      0.82      0.87        49\n",
      "           1       0.87      0.95      0.91        65\n",
      "\n",
      "    accuracy                           0.89       114\n",
      "   macro avg       0.90      0.89      0.89       114\n",
      "weighted avg       0.90      0.89      0.89       114\n",
      "\n"
     ]
    },
    {
     "name": "stderr",
     "output_type": "stream",
     "text": [
      "/opt/conda/lib/python3.7/site-packages/sklearn/linear_model/_logistic.py:762: ConvergenceWarning: lbfgs failed to converge (status=1):\n",
      "STOP: TOTAL NO. of ITERATIONS REACHED LIMIT.\n",
      "\n",
      "Increase the number of iterations (max_iter) or scale the data as shown in:\n",
      "    https://scikit-learn.org/stable/modules/preprocessing.html\n",
      "Please also refer to the documentation for alternative solver options:\n",
      "    https://scikit-learn.org/stable/modules/linear_model.html#logistic-regression\n",
      "  extra_warning_msg=_LOGISTIC_SOLVER_CONVERGENCE_MSG)\n"
     ]
    }
   ],
   "source": [
    "# Logistic Regression 사용해 보기\n",
    "\n",
    "from sklearn.linear_model import LogisticRegression\n",
    "\n",
    "logistic_model = LogisticRegression()  \n",
    "logistic_model.fit(X_train, y_train)\n",
    "logistic_model_y_pred = logistic_model.predict(X_test)\n",
    "\n",
    "print(classification_report(y_test, logistic_model_y_pred))"
   ]
  },
  {
   "cell_type": "markdown",
   "id": "comparable-atlantic",
   "metadata": {},
   "source": [
    "### < 모델 평가하기 >"
   ]
  },
  {
   "cell_type": "markdown",
   "id": "adopted-aspect",
   "metadata": {},
   "source": [
    "1. 암을 진단하는 경우 실제 환자를 한 명이라도 놓치면 안 좋기 때문에 정확한 판단을 위해 recall_score가 중요하다."
   ]
  },
  {
   "cell_type": "code",
   "execution_count": 56,
   "id": "measured-trinity",
   "metadata": {},
   "outputs": [
    {
     "name": "stdout",
     "output_type": "stream",
     "text": [
      "Decision Tree : 0.9210526315789473\n",
      "Random Forest : 0.956140350877193\n",
      "SVM : 0.8947368421052632\n",
      "SGD : 0.9298245614035088\n",
      "Logistic Regression : 0.8947368421052632\n"
     ]
    }
   ],
   "source": [
    "from sklearn.metrics import recall_score\n",
    "\n",
    "print('Decision Tree : {}'.format(recall_score(y_test, decision_tree_y_pred, average = 'weighted')))\n",
    "print('Random Forest : {}'.format(recall_score(y_test, random_forest_y_pred, average = 'weighted')))\n",
    "print('SVM : {}'.format(recall_score(y_test, svm_y_pred, average = 'weighted')))\n",
    "print('SGD : {}'.format(recall_score(y_test, sgd_y_pred, average = 'weighted')))\n",
    "print('Logistic Regression : {}'.format(recall_score(y_test, logistic_model_y_pred, average = 'weighted')))"
   ]
  },
  {
   "cell_type": "markdown",
   "id": "exempt-maple",
   "metadata": {},
   "source": [
    "### < load_breast_cancer 데이터의 recall_score 결과>\n",
    "\n",
    "1. 암 진단은 양성/음성 이진 분류 문제라고 생각했기에 당연히 Logistic Regression의 결과가 가장 좋게 나올 거라고 예상했지만 나의 예상과 달리 Random Forest모델의 결과가 0.956으로 가장 높게 나왔다.       \n",
    "         \n",
    "     \n",
    "2. 위의 와인도 feature의 종류가 많아서 Decision Tree와 Random Forest의 결과가 높게 나온 것처럼 유방암의 특성 갯수가 많아서 Random Forest의 성능이 더 높게 나온 것 같다.     \n"
   ]
  },
  {
   "cell_type": "markdown",
   "id": "united-socket",
   "metadata": {},
   "source": [
    "# 회고"
   ]
  },
  {
   "cell_type": "markdown",
   "id": "czech-practice",
   "metadata": {},
   "source": [
    "### <느낀점>\n",
    "\n",
    "\n",
    "1. 먼저 scikit-learn에서 제공된 데이터로 분류를 하게 되어 지난 번 Ex1) 가위바위보 프로젝트보다 데이터에 신경을 쓰지 않아서 좋았다.   \n",
    "      \n",
    "           \n",
    "2. train data와 test data를 따로 만들지 않고 sklearn의 train_test_split함수를 이용해 한 번에 쉽게 나눌 수 있어서 편했다.    \n",
    "        \n",
    "             \n",
    "3. 머신러닝의 다양한 모델 학습 방법들이 있는지 처음 알았다. 또한, 학습된 모델들의 test data 예측 결과를 여러가지 방면으로 해석해야 하는 것도 처음 알게 되었다.      \n",
    " - 정확도만 좋으면 성능이 좋은 줄 알았지만 오차행렬에 대한 개념도 알아야 하고 데이터의 특징에 따라 precision, recall, F1-score 등 다양하게 해석해야 하는 걸 이번에 알게 되었다.      \n",
    "       "
   ]
  },
  {
   "cell_type": "markdown",
   "id": "hairy-hartford",
   "metadata": {},
   "source": [
    "# 결론"
   ]
  },
  {
   "cell_type": "markdown",
   "id": "tender-packaging",
   "metadata": {},
   "source": [
    "### * 파이썬에서 많이 사용하고 있는 머신러닝 라이브러리인 scikit-learn을 통해 데이터 학습에 여러 가지 모델을 적용할 수 있고 쉽고 빠르게 원하는 결과를 얻을 수 있다."
   ]
  }
 ],
 "metadata": {
  "kernelspec": {
   "display_name": "Python 3",
   "language": "python",
   "name": "python3"
  },
  "language_info": {
   "codemirror_mode": {
    "name": "ipython",
    "version": 3
   },
   "file_extension": ".py",
   "mimetype": "text/x-python",
   "name": "python",
   "nbconvert_exporter": "python",
   "pygments_lexer": "ipython3",
   "version": "3.7.9"
  }
 },
 "nbformat": 4,
 "nbformat_minor": 5
}
